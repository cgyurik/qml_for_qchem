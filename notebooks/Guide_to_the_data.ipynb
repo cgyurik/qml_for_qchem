{
 "cells": [
  {
   "cell_type": "markdown",
   "metadata": {},
   "source": [
    "# Generating data"
   ]
  },
  {
   "cell_type": "markdown",
   "metadata": {},
   "source": [
    "All the code for data generation is in the module `generate_lib`.\n",
    "\n",
    "The quantum chemistry data used in this project are produced using the quantum chemistry packagePsi4 (http://www.psicode.org/).\n",
    "Thanks to the interface package `openfermionpsi4`, the resulting molecular data can be stored in a molecule `.hdf5` file, to be directly loaded inside an `openfermion.MolecularData` object.\n",
    "\n",
    "The molecule files are stored in this repository's `data/molecules/` directory.\n",
    "The name of each file is determined by univocally converting the molecule's geometry to a string (see `MoleculeDataGenerator._generate_filename`).\n",
    "\n",
    "For each molecule, the relevant data for the ML model are also saved as a dictionary in a `.json` with the same name, in the structured directory `data/json/`.\n",
    "The data in the json files is accessible and usable without dependency on any of the aforementioned packages.\n",
    "\n",
    "To generate and save a molecule and relative data, given the geometry, it is sufficient to instantiate the object `MoleculeDataGenerator(geometry)`."
   ]
  },
  {
   "cell_type": "code",
   "execution_count": 2,
   "metadata": {
    "ExecuteTime": {
     "end_time": "2020-06-07T20:09:50.153918Z",
     "start_time": "2020-06-07T20:09:49.567740Z"
    },
    "scrolled": true
   },
   "outputs": [
    {
     "name": "stdout",
     "output_type": "stream",
     "text": [
      "<openfermion.hamiltonians._molecular_data.MolecularData object at 0x10b638650>\n",
      "dict_keys(['geometry', 'multiplicity', 'canonical_orbitals', 'canonical_to_oao', 'orbital_energies', 'exact_energy', 'ground_states'])\n"
     ]
    }
   ],
   "source": [
    "from generate_lib import MoleculeDataGenerator\n",
    "\n",
    "# Set the geometry and generate the molecule\n",
    "\n",
    "geometry = (\n",
    "    ('H', (0., 0., 0.)),\n",
    "    ('H', (1., 0., 0.)),\n",
    "    ('H', (0., 1., 0.)),\n",
    "    ('H', (0., 0., 1.))\n",
    ")\n",
    "\n",
    "# instantiating a MoleculeDataGenerator is enough to create molecule+data files\n",
    "gen = MoleculeDataGenerator(geometry) \n",
    "\n",
    "# the object contains the molecule and the relative data dictionary\n",
    "print(gen.molecule)\n",
    "print(gen.data_dict.keys())"
   ]
  },
  {
   "cell_type": "markdown",
   "metadata": {},
   "source": [
    "## Chosen molecule family\n",
    "\n",
    "The first chosen molecule family for this project is $\\mathrm{H}_4$ in various geometries.\n",
    "Some physical limits for the geometry are set:\n",
    "- For each pair of H atoms, the interatomic distance is not smaller than $0.4Å$. This avoids exaggerate orbital ovelaps\n",
    "- For each pair of adjacent atoms (in the ordered in which they're listed in the geometry) the interatomic distance is no more than $1.5Å$. This avoids completely dissociated molecules.\n",
    "\n",
    "Additionally, parameters that are irrelevant for the calculation of translation-invariant and rotation-invariant properties are (for now) fixed:\n",
    "- the fist atom is always at position $(0, 0, 0)$\n",
    "- the second atom is always on the positive X half-axis $(x_1, 0, 0)$, $x_1>0$\n",
    "- the third atom is always on the XY plane $(x_2, y_2, 0)$\n",
    "- the fourth can be anywhere in space, within the previously set limits $(x_3, y_3, z_3)$\n",
    "\n",
    "Finally, for convenience in file naming and data exchange, we keep only 4 decimals in all the $x_i, y_i, z_i$ values:\n",
    "- all positions are forced on a grid with resolution $0.001Å$"
   ]
  },
  {
   "cell_type": "code",
   "execution_count": 5,
   "metadata": {
    "ExecuteTime": {
     "end_time": "2020-06-06T14:20:58.946823Z",
     "start_time": "2020-06-06T14:20:58.942296Z"
    },
    "scrolled": true
   },
   "outputs": [
    {
     "name": "stdout",
     "output_type": "stream",
     "text": [
      "Help on function H4_generate_random_molecule in module generate_lib:\n",
      "\n",
      "H4_generate_random_molecule(rng=Generator(PCG64) at 0x1019573650)\n",
      "    Generate and save molecule and data for a valid random geomertry of H4.\n",
      "    For detailed help see: \n",
      "        `H4_generate_valid_geometry`\n",
      "        `check_geometry` \n",
      "        `MoleculeDataGenerator`\n",
      "        \n",
      "    Args:\n",
      "        rng: a numpy.random generator\n",
      "        \n",
      "    Returns:\n",
      "        MoleculeDataGenerator\n",
      "        \n",
      "    Raises:\n",
      "        FailedGeneration\n",
      "\n"
     ]
    }
   ],
   "source": [
    "from generate_lib import H4_generate_random_molecule\n",
    "help(H4_generate_random_molecule)"
   ]
  },
  {
   "cell_type": "code",
   "execution_count": 6,
   "metadata": {
    "ExecuteTime": {
     "end_time": "2020-06-06T14:20:59.329600Z",
     "start_time": "2020-06-06T14:20:59.317007Z"
    },
    "scrolled": true
   },
   "outputs": [
    {
     "data": {
      "text/plain": [
       "[('H', (0.0, 0.0, 0.0)),\n",
       " ('H', (0.4023, 0.0, 0.0)),\n",
       " ('H', (-0.024, -0.499, 0.0)),\n",
       " ('H', (-0.1734, 0.3813, -0.4048))]"
      ]
     },
     "execution_count": 6,
     "metadata": {},
     "output_type": "execute_result"
    }
   ],
   "source": [
    "from generate_lib import H4_generate_valid_geometry\n",
    "H4_generate_valid_geometry()"
   ]
  },
  {
   "cell_type": "markdown",
   "metadata": {},
   "source": [
    "## Generate random H4 data"
   ]
  },
  {
   "cell_type": "code",
   "execution_count": 1,
   "metadata": {
    "ExecuteTime": {
     "end_time": "2020-06-06T16:06:57.701577Z",
     "start_time": "2020-06-06T16:01:28.642934Z"
    }
   },
   "outputs": [
    {
     "name": "stderr",
     "output_type": "stream",
     "text": [
      "100%|██████████| 100/100 [05:28<00:00,  3.29s/it]\n"
     ]
    }
   ],
   "source": [
    "from tqdm import tqdm\n",
    "from generate_lib import H4_generate_random_molecule, FailedGeneration\n",
    "\n",
    "n_molecules_to_generate = 100\n",
    "\n",
    "for _ in tqdm(range(n_molecules_to_generate)):\n",
    "    for attempt in range(10):\n",
    "        try:\n",
    "            H4_generate_random_molecule()\n",
    "        except FailedGeneration as exc:\n",
    "            print('Failed to generate random molecule because of:\\n' + str(exc))\n",
    "        else:\n",
    "            break"
   ]
  },
  {
   "cell_type": "markdown",
   "metadata": {},
   "source": [
    "# Loading data for QML model\n",
    "\n",
    "Only the function `load_data` in `load_lib` is needed to load the relevant data for the QML model.\n",
    "`load_lib` also defined `JSON_DIR` and `MOLECULES_DIR` for convenience.\n"
   ]
  },
  {
   "cell_type": "code",
   "execution_count": 8,
   "metadata": {
    "ExecuteTime": {
     "end_time": "2020-06-06T14:21:15.170874Z",
     "start_time": "2020-06-06T14:21:15.167760Z"
    }
   },
   "outputs": [],
   "source": [
    "from load_lib import *"
   ]
  },
  {
   "cell_type": "markdown",
   "metadata": {
    "ExecuteTime": {
     "end_time": "2020-06-06T13:06:59.969755Z",
     "start_time": "2020-06-06T13:06:59.966258Z"
    }
   },
   "source": [
    "To load all data:"
   ]
  },
  {
   "cell_type": "code",
   "execution_count": 9,
   "metadata": {
    "ExecuteTime": {
     "end_time": "2020-06-06T14:21:15.667471Z",
     "start_time": "2020-06-06T14:21:15.657535Z"
    },
    "scrolled": true
   },
   "outputs": [
    {
     "name": "stdout",
     "output_type": "stream",
     "text": [
      "length of the dataset: 4\n"
     ]
    }
   ],
   "source": [
    "dataset = [load_data(filename) \n",
    "           for filename in os.listdir(JSON_DIR)\n",
    "           if filename.endswith('.json')]\n",
    "\n",
    "print('length of the dataset:', len(dataset))"
   ]
  },
  {
   "cell_type": "markdown",
   "metadata": {},
   "source": [
    "**Example:** count how many of the molecules in the dataset have a singlet ground state and how many have a triplet"
   ]
  },
  {
   "cell_type": "code",
   "execution_count": 10,
   "metadata": {
    "ExecuteTime": {
     "end_time": "2020-06-06T14:21:18.766207Z",
     "start_time": "2020-06-06T14:21:18.757927Z"
    }
   },
   "outputs": [
    {
     "name": "stdout",
     "output_type": "stream",
     "text": [
      "Counter({1: 2, 3: 2})\n"
     ]
    }
   ],
   "source": [
    "multiplicities = [load_data(filename)['multiplicity']\n",
    "                  for filename in os.listdir(JSON_DIR)\n",
    "                  if filename.endswith('.json')]\n",
    "\n",
    "from collections import Counter\n",
    "print(Counter(multiplicities))"
   ]
  },
  {
   "cell_type": "markdown",
   "metadata": {},
   "source": [
    "# What are the saved data "
   ]
  },
  {
   "cell_type": "markdown",
   "metadata": {},
   "source": [
    "Let's take as an example one data dictionary:"
   ]
  },
  {
   "cell_type": "code",
   "execution_count": 11,
   "metadata": {
    "ExecuteTime": {
     "end_time": "2020-06-06T14:21:21.452375Z",
     "start_time": "2020-06-06T14:21:21.445247Z"
    },
    "scrolled": true
   },
   "outputs": [
    {
     "name": "stdout",
     "output_type": "stream",
     "text": [
      "\n",
      "content of each data dictionary\n",
      "\n",
      "KEY:                 VALUE TYPE:         \n",
      "------------------------------------------------------------\n",
      "geometry             <class 'list'>       \n",
      "multiplicity         <class 'int'>        \n",
      "canonical_orbitals   <class 'numpy.ndarray'> with shape (4, 4)\n",
      "canonical_to_oao     <class 'numpy.ndarray'> with shape (4, 4)\n",
      "orbital_energies     <class 'numpy.ndarray'> with shape (4,)\n",
      "exact_energy         <class 'float'>      \n",
      "ground_states        <class 'numpy.ndarray'> with shape (256, 3)\n"
     ]
    }
   ],
   "source": [
    "from load_lib import * \n",
    "import os\n",
    "\n",
    "filename = 'H,0,0,0.0;H,1,0,0.0;H,0,1,0.0;H,0,0,1.0'\n",
    "data_dict = load_data(filename)\n",
    "\n",
    "print('\\ncontent of each data dictionary\\n')\n",
    "print(f\"{'KEY:':20} {'VALUE TYPE:':20}\\n{'-'*60}\")\n",
    "for k, v in data_dict.items():\n",
    "    print(f'{k:20} {str(type(v)):20}',\n",
    "          f'with shape {v.shape}' if isinstance(v, np.ndarray) else \"\")"
   ]
  },
  {
   "cell_type": "markdown",
   "metadata": {},
   "source": [
    "`geometry` is a list of tuples ('atom_symbol', (x, y, z)):"
   ]
  },
  {
   "cell_type": "code",
   "execution_count": 12,
   "metadata": {
    "ExecuteTime": {
     "end_time": "2020-06-06T14:21:24.945889Z",
     "start_time": "2020-06-06T14:21:24.941634Z"
    }
   },
   "outputs": [
    {
     "data": {
      "text/plain": [
       "[['H', [0.0, 0.0, 0.0]],\n",
       " ['H', [1.0, 0.0, 0.0]],\n",
       " ['H', [0.0, 1.0, 0.0]],\n",
       " ['H', [0.0, 0.0, 1.0]]]"
      ]
     },
     "execution_count": 12,
     "metadata": {},
     "output_type": "execute_result"
    }
   ],
   "source": [
    "data_dict['geometry']"
   ]
  },
  {
   "cell_type": "markdown",
   "metadata": {},
   "source": [
    "`multiplicity` indicates wether the ground state of this molecule is a singlet (1) or triplet (3).\n",
    "All the ground states are saved as complex **column vectors** in a matrix of shape ($2^n$, `multiplicity` )"
   ]
  },
  {
   "cell_type": "code",
   "execution_count": 14,
   "metadata": {
    "ExecuteTime": {
     "end_time": "2020-06-06T14:21:45.891326Z",
     "start_time": "2020-06-06T14:21:45.875166Z"
    },
    "scrolled": false
   },
   "outputs": [
    {
     "name": "stdout",
     "output_type": "stream",
     "text": [
      "multiplicity:  3\n",
      "ground states: \n",
      " [[ 0.   +0.j     0.   +0.j     0.   +0.j   ]\n",
      " [ 0.   +0.j     0.   +0.j     0.   +0.j   ]\n",
      " [ 0.   +0.j     0.   +0.j     0.   +0.j   ]\n",
      " [ 0.   +0.j     0.   +0.j     0.   +0.j   ]\n",
      " [ 0.   +0.j     0.   +0.j     0.   +0.j   ]\n",
      " [ 0.   +0.j     0.   +0.j     0.   +0.j   ]\n",
      " [ 0.   +0.j     0.   +0.j     0.   +0.j   ]\n",
      " [ 0.   +0.j     0.   +0.j     0.   +0.j   ]\n",
      " [ 0.   +0.j     0.   +0.j     0.   +0.j   ]\n",
      " [ 0.   +0.j     0.   +0.j     0.   +0.j   ]\n",
      " [ 0.   +0.j     0.   +0.j     0.   +0.j   ]\n",
      " [ 0.   +0.j     0.   +0.j     0.   +0.j   ]\n",
      " [ 0.   +0.j     0.   +0.j     0.   +0.j   ]\n",
      " [ 0.   +0.j     0.   +0.j     0.   +0.j   ]\n",
      " [ 0.   +0.j     0.   +0.j     0.   +0.j   ]\n",
      " [ 0.   +0.j     0.   +0.j     0.   +0.j   ]\n",
      " [ 0.   +0.j     0.   +0.j     0.   +0.j   ]\n",
      " [ 0.   +0.j     0.   +0.j     0.   +0.j   ]\n",
      " [ 0.   +0.j     0.   +0.j     0.   +0.j   ]\n",
      " [ 0.   +0.j     0.   +0.j     0.   +0.j   ]\n",
      " [ 0.   +0.j     0.   +0.j     0.   +0.j   ]\n",
      " [ 0.   +0.j     0.   +0.j     0.   +0.j   ]\n",
      " [ 0.   +0.j     0.   +0.j     0.   +0.j   ]\n",
      " [ 0.046+0.02j   0.041+0.016j  0.04 +0.051j]\n",
      " [ 0.   +0.j     0.   +0.j     0.   +0.j   ]\n",
      " [ 0.   +0.j     0.   +0.j     0.   +0.j   ]\n",
      " [ 0.   +0.j     0.   +0.j     0.   +0.j   ]\n",
      " [ 0.017+0.035j -0.02 -0.041j -0.002+0.j   ]\n",
      " [ 0.   +0.j     0.   +0.j     0.   +0.j   ]\n",
      " [ 0.   +0.j     0.   +0.j     0.   +0.j   ]\n",
      " [ 0.   +0.j     0.   +0.j     0.   +0.j   ]\n",
      " [ 0.   +0.j     0.   +0.j     0.   +0.j   ]\n",
      " [ 0.   +0.j     0.   +0.j     0.   +0.j   ]\n",
      " [ 0.   +0.j     0.   +0.j     0.   +0.j   ]\n",
      " [ 0.   +0.j     0.   +0.j     0.   +0.j   ]\n",
      " [ 0.   +0.j     0.   +0.j     0.   +0.j   ]\n",
      " [ 0.   +0.j     0.   +0.j     0.   +0.j   ]\n",
      " [ 0.   +0.j     0.   +0.j     0.   +0.j   ]\n",
      " [ 0.   +0.j     0.   +0.j     0.   +0.j   ]\n",
      " [ 0.017+0.035j -0.02 -0.041j -0.002+0.j   ]\n",
      " [ 0.   +0.j     0.   +0.j     0.   +0.j   ]\n",
      " [ 0.   +0.j     0.   +0.j     0.   +0.j   ]\n",
      " [ 0.   +0.j     0.   +0.j     0.   +0.j   ]\n",
      " [ 0.04 +0.027j  0.035+0.026j -0.027-0.055j]\n",
      " [ 0.   +0.j     0.   +0.j     0.   +0.j   ]\n",
      " [ 0.   +0.j     0.   +0.j     0.   +0.j   ]\n",
      " [ 0.   +0.j     0.   +0.j     0.   +0.j   ]\n",
      " [ 0.   +0.j     0.   +0.j     0.   +0.j   ]\n",
      " [ 0.   +0.j     0.   +0.j     0.   +0.j   ]\n",
      " [ 0.   +0.j     0.   +0.j     0.   +0.j   ]\n",
      " [ 0.   +0.j     0.   +0.j     0.   +0.j   ]\n",
      " [ 0.   +0.j     0.   +0.j     0.   +0.j   ]\n",
      " [ 0.   +0.j     0.   +0.j     0.   +0.j   ]\n",
      " [ 0.   +0.j     0.   +0.j     0.   +0.j   ]\n",
      " [ 0.   +0.j     0.   +0.j     0.   +0.j   ]\n",
      " [ 0.   +0.j     0.   +0.j     0.   +0.j   ]\n",
      " [ 0.   +0.j     0.   +0.j     0.   +0.j   ]\n",
      " [ 0.   +0.j     0.   +0.j     0.   +0.j   ]\n",
      " [ 0.   +0.j     0.   +0.j     0.   +0.j   ]\n",
      " [ 0.   +0.j     0.   +0.j     0.   +0.j   ]\n",
      " [ 0.   +0.j     0.   +0.j     0.   +0.j   ]\n",
      " [ 0.   +0.j     0.   +0.j     0.   +0.j   ]\n",
      " [ 0.   +0.j     0.   +0.j     0.   +0.j   ]\n",
      " [ 0.   +0.j     0.   +0.j     0.   +0.j   ]\n",
      " [ 0.   +0.j     0.   +0.j     0.   +0.j   ]\n",
      " [ 0.   +0.j     0.   +0.j     0.   +0.j   ]\n",
      " [ 0.   +0.j     0.   +0.j     0.   +0.j   ]\n",
      " [ 0.   +0.j     0.   +0.j     0.   +0.j   ]\n",
      " [ 0.   +0.j     0.   +0.j     0.   +0.j   ]\n",
      " [ 0.   +0.j     0.   +0.j     0.   +0.j   ]\n",
      " [ 0.   +0.j     0.   +0.j     0.   +0.j   ]\n",
      " [ 0.   +0.j     0.   +0.j     0.   +0.j   ]\n",
      " [ 0.   +0.j     0.   +0.j     0.   +0.j   ]\n",
      " [ 0.   +0.j     0.   +0.j     0.   +0.j   ]\n",
      " [ 0.   +0.j     0.   +0.j     0.   +0.j   ]\n",
      " [ 0.   +0.j     0.   +0.j     0.   +0.j   ]\n",
      " [ 0.   +0.j     0.   +0.j     0.   +0.j   ]\n",
      " [ 0.   +0.j     0.   +0.j     0.   +0.j   ]\n",
      " [ 0.   +0.j     0.   +0.j     0.   +0.j   ]\n",
      " [ 0.   +0.j     0.   +0.j     0.   +0.j   ]\n",
      " [ 0.   +0.j     0.   +0.j     0.   +0.j   ]\n",
      " [ 0.   +0.j     0.   +0.j     0.   +0.j   ]\n",
      " [ 0.   +0.j     0.   +0.j     0.   +0.j   ]\n",
      " [ 0.   +0.j     0.   +0.j     0.   +0.j   ]\n",
      " [ 0.   +0.j     0.   +0.j     0.   +0.j   ]\n",
      " [ 0.   +0.j     0.   +0.j     0.   +0.j   ]\n",
      " [ 0.053+0.023j  0.047+0.018j  0.046+0.058j]\n",
      " [ 0.   +0.j     0.   +0.j     0.   +0.j   ]\n",
      " [ 0.   +0.j     0.   +0.j     0.   +0.j   ]\n",
      " [-0.046-0.02j  -0.041-0.016j -0.04 -0.052j]\n",
      " [ 0.002+0.005j -0.003-0.006j -0.   +0.j   ]\n",
      " [ 0.   +0.j     0.   +0.j     0.   +0.j   ]\n",
      " [ 0.   +0.j     0.   +0.j     0.   +0.j   ]\n",
      " [ 0.   +0.j     0.   +0.j     0.   +0.j   ]\n",
      " [ 0.   +0.j     0.   +0.j     0.   +0.j   ]\n",
      " [ 0.   +0.j     0.   +0.j     0.   +0.j   ]\n",
      " [ 0.   +0.j     0.   +0.j     0.   +0.j   ]\n",
      " [ 0.   +0.j     0.   +0.j     0.   +0.j   ]\n",
      " [ 0.   +0.j     0.   +0.j     0.   +0.j   ]\n",
      " [ 0.   +0.j     0.   +0.j     0.   +0.j   ]\n",
      " [ 0.   +0.j     0.   +0.j     0.   +0.j   ]\n",
      " [-0.046-0.02j  -0.041-0.016j -0.04 -0.052j]\n",
      " [ 0.002+0.005j -0.003-0.006j -0.   +0.j   ]\n",
      " [ 0.   +0.j     0.   +0.j     0.   +0.j   ]\n",
      " [ 0.   +0.j     0.   +0.j     0.   +0.j   ]\n",
      " [-0.035-0.072j  0.04 +0.083j  0.004-0.001j]\n",
      " [-0.035-0.023j -0.031-0.023j  0.023+0.049j]\n",
      " [ 0.   +0.j     0.   +0.j     0.   +0.j   ]\n",
      " [ 0.   +0.j     0.   +0.j     0.   +0.j   ]\n",
      " [ 0.   +0.j     0.   +0.j     0.   +0.j   ]\n",
      " [ 0.   +0.j     0.   +0.j     0.   +0.j   ]\n",
      " [ 0.   +0.j     0.   +0.j     0.   +0.j   ]\n",
      " [ 0.   +0.j     0.   +0.j     0.   +0.j   ]\n",
      " [ 0.   +0.j     0.   +0.j     0.   +0.j   ]\n",
      " [ 0.   +0.j     0.   +0.j     0.   +0.j   ]\n",
      " [ 0.   +0.j     0.   +0.j     0.   +0.j   ]\n",
      " [ 0.   +0.j     0.   +0.j     0.   +0.j   ]\n",
      " [ 0.   +0.j     0.   +0.j     0.   +0.j   ]\n",
      " [ 0.   +0.j     0.   +0.j     0.   +0.j   ]\n",
      " [ 0.   +0.j     0.   +0.j     0.   +0.j   ]\n",
      " [ 0.   +0.j     0.   +0.j     0.   +0.j   ]\n",
      " [ 0.   +0.j     0.   +0.j     0.   +0.j   ]\n",
      " [ 0.   +0.j     0.   +0.j     0.   +0.j   ]\n",
      " [ 0.   +0.j     0.   +0.j     0.   +0.j   ]\n",
      " [ 0.   +0.j     0.   +0.j     0.   +0.j   ]\n",
      " [ 0.   +0.j     0.   +0.j     0.   +0.j   ]\n",
      " [ 0.   +0.j     0.   +0.j     0.   +0.j   ]\n",
      " [ 0.   +0.j     0.   +0.j     0.   +0.j   ]\n",
      " [ 0.   +0.j     0.   +0.j     0.   +0.j   ]\n",
      " [ 0.   +0.j     0.   +0.j     0.   +0.j   ]\n",
      " [ 0.   +0.j     0.   +0.j     0.   +0.j   ]\n",
      " [ 0.   +0.j     0.   +0.j     0.   +0.j   ]\n",
      " [ 0.   +0.j     0.   +0.j     0.   +0.j   ]\n",
      " [ 0.   +0.j     0.   +0.j     0.   +0.j   ]\n",
      " [ 0.   +0.j     0.   +0.j     0.   +0.j   ]\n",
      " [ 0.   +0.j     0.   +0.j     0.   +0.j   ]\n",
      " [ 0.   +0.j     0.   +0.j     0.   +0.j   ]\n",
      " [ 0.   +0.j     0.   +0.j     0.   +0.j   ]\n",
      " [ 0.   +0.j     0.   +0.j     0.   +0.j   ]\n",
      " [ 0.   +0.j     0.   +0.j     0.   +0.j   ]\n",
      " [ 0.   +0.j     0.   +0.j     0.   +0.j   ]\n",
      " [ 0.   +0.j     0.   +0.j     0.   +0.j   ]\n",
      " [ 0.   +0.j     0.   +0.j     0.   +0.j   ]\n",
      " [ 0.   +0.j     0.   +0.j     0.   +0.j   ]\n",
      " [ 0.   +0.j     0.   +0.j     0.   +0.j   ]\n",
      " [ 0.   +0.j     0.   +0.j     0.   +0.j   ]\n",
      " [ 0.   +0.j     0.   +0.j     0.   +0.j   ]\n",
      " [ 0.   +0.j     0.   +0.j     0.   +0.j   ]\n",
      " [ 0.   +0.j     0.   +0.j     0.   +0.j   ]\n",
      " [ 0.04 +0.017j  0.036+0.014j  0.035+0.045j]\n",
      " [ 0.035+0.072j -0.04 -0.083j -0.004+0.001j]\n",
      " [ 0.   +0.j     0.   +0.j     0.   +0.j   ]\n",
      " [ 0.   +0.j     0.   +0.j     0.   +0.j   ]\n",
      " [-0.002-0.005j  0.003+0.006j  0.   -0.j   ]\n",
      " [ 0.041+0.027j  0.035+0.026j -0.027-0.056j]\n",
      " [ 0.   +0.j     0.   +0.j     0.   +0.j   ]\n",
      " [ 0.   +0.j     0.   +0.j     0.   +0.j   ]\n",
      " [ 0.   +0.j     0.   +0.j     0.   +0.j   ]\n",
      " [ 0.   +0.j     0.   +0.j     0.   +0.j   ]\n",
      " [ 0.   +0.j     0.   +0.j     0.   +0.j   ]\n",
      " [ 0.   +0.j     0.   +0.j     0.   +0.j   ]\n",
      " [ 0.   +0.j     0.   +0.j     0.   +0.j   ]\n",
      " [ 0.   +0.j     0.   +0.j     0.   +0.j   ]\n",
      " [ 0.   +0.j     0.   +0.j     0.   +0.j   ]\n",
      " [ 0.   +0.j     0.   +0.j     0.   +0.j   ]\n",
      " [-0.002-0.005j  0.003+0.006j  0.   -0.j   ]\n",
      " [ 0.041+0.027j  0.035+0.026j -0.027-0.056j]\n",
      " [ 0.   +0.j     0.   +0.j     0.   +0.j   ]\n",
      " [ 0.   +0.j     0.   +0.j     0.   +0.j   ]\n",
      " [-0.047-0.031j -0.04 -0.03j   0.031+0.064j]\n",
      " [ 0.   +0.j     0.   +0.j     0.   +0.j   ]\n",
      " [ 0.   +0.j     0.   +0.j     0.   +0.j   ]\n",
      " [ 0.   +0.j     0.   +0.j     0.   +0.j   ]\n",
      " [ 0.   +0.j     0.   +0.j     0.   +0.j   ]\n",
      " [ 0.   +0.j     0.   +0.j     0.   +0.j   ]\n",
      " [ 0.   +0.j     0.   +0.j     0.   +0.j   ]\n",
      " [ 0.   +0.j     0.   +0.j     0.   +0.j   ]\n",
      " [ 0.   +0.j     0.   +0.j     0.   +0.j   ]\n",
      " [ 0.   +0.j     0.   +0.j     0.   +0.j   ]\n",
      " [ 0.   +0.j     0.   +0.j     0.   +0.j   ]\n",
      " [ 0.   +0.j     0.   +0.j     0.   +0.j   ]\n",
      " [ 0.   +0.j     0.   +0.j     0.   +0.j   ]\n",
      " [ 0.   +0.j     0.   +0.j     0.   +0.j   ]\n",
      " [ 0.   +0.j     0.   +0.j     0.   +0.j   ]\n",
      " [ 0.   +0.j     0.   +0.j     0.   +0.j   ]\n",
      " [ 0.   +0.j     0.   +0.j     0.   +0.j   ]\n",
      " [ 0.   +0.j     0.   +0.j     0.   +0.j   ]\n",
      " [ 0.   +0.j     0.   +0.j     0.   +0.j   ]\n",
      " [ 0.   +0.j     0.   +0.j     0.   +0.j   ]\n",
      " [ 0.   +0.j     0.   +0.j     0.   +0.j   ]\n",
      " [ 0.   +0.j     0.   +0.j     0.   +0.j   ]\n",
      " [ 0.   +0.j     0.   +0.j     0.   +0.j   ]\n",
      " [ 0.   +0.j     0.   +0.j     0.   +0.j   ]\n",
      " [ 0.   +0.j     0.   +0.j     0.   +0.j   ]\n",
      " [ 0.   +0.j     0.   +0.j     0.   +0.j   ]\n",
      " [ 0.   +0.j     0.   +0.j     0.   +0.j   ]\n",
      " [ 0.   +0.j     0.   +0.j     0.   +0.j   ]\n",
      " [ 0.   +0.j     0.   +0.j     0.   +0.j   ]\n",
      " [ 0.   +0.j     0.   +0.j     0.   +0.j   ]\n",
      " [ 0.   +0.j     0.   +0.j     0.   +0.j   ]\n",
      " [ 0.   +0.j     0.   +0.j     0.   +0.j   ]\n",
      " [ 0.   +0.j     0.   +0.j     0.   +0.j   ]\n",
      " [ 0.   +0.j     0.   +0.j     0.   +0.j   ]\n",
      " [ 0.   +0.j     0.   +0.j     0.   +0.j   ]\n",
      " [ 0.   +0.j     0.   +0.j     0.   +0.j   ]\n",
      " [ 0.   +0.j     0.   +0.j     0.   +0.j   ]\n",
      " [ 0.   +0.j     0.   +0.j     0.   +0.j   ]\n",
      " [ 0.   +0.j     0.   +0.j     0.   +0.j   ]\n",
      " [ 0.   +0.j     0.   +0.j     0.   +0.j   ]\n",
      " [ 0.   +0.j     0.   +0.j     0.   +0.j   ]\n",
      " [ 0.   +0.j     0.   +0.j     0.   +0.j   ]\n",
      " [ 0.   +0.j     0.   +0.j     0.   +0.j   ]\n",
      " [-0.504-0.219j -0.445-0.176j -0.436-0.558j]\n",
      " [ 0.   +0.j     0.   +0.j     0.   +0.j   ]\n",
      " [ 0.   +0.j     0.   +0.j     0.   +0.j   ]\n",
      " [ 0.   +0.j     0.   +0.j     0.   +0.j   ]\n",
      " [-0.188-0.389j  0.214+0.451j  0.022-0.005j]\n",
      " [ 0.   +0.j     0.   +0.j     0.   +0.j   ]\n",
      " [ 0.   +0.j     0.   +0.j     0.   +0.j   ]\n",
      " [ 0.   +0.j     0.   +0.j     0.   +0.j   ]\n",
      " [ 0.   +0.j     0.   +0.j     0.   +0.j   ]\n",
      " [ 0.   +0.j     0.   +0.j     0.   +0.j   ]\n",
      " [ 0.   +0.j     0.   +0.j     0.   +0.j   ]\n",
      " [ 0.   +0.j     0.   +0.j     0.   +0.j   ]\n",
      " [ 0.   +0.j     0.   +0.j     0.   +0.j   ]\n",
      " [ 0.   +0.j     0.   +0.j     0.   +0.j   ]\n",
      " [ 0.   +0.j     0.   +0.j     0.   +0.j   ]\n",
      " [ 0.   +0.j     0.   +0.j     0.   +0.j   ]\n",
      " [-0.188-0.389j  0.214+0.451j  0.022-0.005j]\n",
      " [ 0.   +0.j     0.   +0.j     0.   +0.j   ]\n",
      " [ 0.   +0.j     0.   +0.j     0.   +0.j   ]\n",
      " [ 0.   +0.j     0.   +0.j     0.   +0.j   ]\n",
      " [-0.444-0.294j -0.385-0.287j  0.292+0.609j]\n",
      " [ 0.   +0.j     0.   +0.j     0.   +0.j   ]\n",
      " [ 0.   +0.j     0.   +0.j     0.   +0.j   ]\n",
      " [ 0.   +0.j     0.   +0.j     0.   +0.j   ]\n",
      " [ 0.   +0.j     0.   +0.j     0.   +0.j   ]\n",
      " [ 0.   +0.j     0.   +0.j     0.   +0.j   ]\n",
      " [ 0.   +0.j     0.   +0.j     0.   +0.j   ]\n",
      " [ 0.   +0.j     0.   +0.j     0.   +0.j   ]\n",
      " [ 0.   +0.j     0.   +0.j     0.   +0.j   ]\n",
      " [ 0.   +0.j     0.   +0.j     0.   +0.j   ]\n",
      " [ 0.   +0.j     0.   +0.j     0.   +0.j   ]\n",
      " [ 0.   +0.j     0.   +0.j     0.   +0.j   ]\n",
      " [ 0.   +0.j     0.   +0.j     0.   +0.j   ]\n",
      " [ 0.   +0.j     0.   +0.j     0.   +0.j   ]\n",
      " [ 0.   +0.j     0.   +0.j     0.   +0.j   ]\n",
      " [ 0.   +0.j     0.   +0.j     0.   +0.j   ]\n",
      " [ 0.   +0.j     0.   +0.j     0.   +0.j   ]\n",
      " [ 0.   +0.j     0.   +0.j     0.   +0.j   ]\n",
      " [ 0.   +0.j     0.   +0.j     0.   +0.j   ]\n",
      " [ 0.   +0.j     0.   +0.j     0.   +0.j   ]\n",
      " [ 0.   +0.j     0.   +0.j     0.   +0.j   ]\n",
      " [ 0.   +0.j     0.   +0.j     0.   +0.j   ]\n",
      " [ 0.   +0.j     0.   +0.j     0.   +0.j   ]\n",
      " [ 0.   +0.j     0.   +0.j     0.   +0.j   ]]\n"
     ]
    }
   ],
   "source": [
    "print('multiplicity: ', data_dict['multiplicity'])\n",
    "print('ground states: \\n', data_dict['ground_states'].round(3))"
   ]
  },
  {
   "cell_type": "markdown",
   "metadata": {},
   "source": [
    "`exact_energy` encodes the exact ground-state energy of the molecule, i.e. the target output of the QML model for this first stage of the project."
   ]
  },
  {
   "cell_type": "code",
   "execution_count": 21,
   "metadata": {
    "ExecuteTime": {
     "end_time": "2020-06-06T15:59:37.316496Z",
     "start_time": "2020-06-06T15:59:37.312294Z"
    }
   },
   "outputs": [
    {
     "data": {
      "text/plain": [
       "-1.8917479285527619"
      ]
     },
     "execution_count": 21,
     "metadata": {},
     "output_type": "execute_result"
    }
   ],
   "source": [
    "data_dict['exact_energy']"
   ]
  },
  {
   "cell_type": "markdown",
   "metadata": {},
   "source": [
    "## Atomic and molecular orbitals"
   ]
  },
  {
   "cell_type": "markdown",
   "metadata": {
    "ExecuteTime": {
     "end_time": "2020-06-06T14:14:24.029058Z",
     "start_time": "2020-06-06T14:14:24.025821Z"
    }
   },
   "source": [
    "Atomic orbitals are a physically-motivated, non-complete and non-orthogonal parametrization of scalar funcions of space (fields $\\phi(\\vec{x})$).\n",
    "\n",
    "To each atom we can assign a set of spherical harmonics centered in the atom's position and with radii dependent on the atom's charge. \n",
    "Each (infinite) set of spherical harmonics forms a orthonormal base for fields.\n",
    "If we model an atom as a point charge, these spherical harmonics will be the eigen-wavefunctions for a single electron in the atom's field.\n",
    "Truncating the number of spherical harmonics allows us to construct a *finite* parametrization of space that can approximate the low-energy electron field, hopefully also in the interacting and poly-atomic case.\n",
    "The basis functions of these parametrization are called atomic orbitals. \n",
    "\n",
    "The *minimal basis* approximation, in the case of Hydrogen atoms, prescribes that we take a single spherically symmetric *atomic orbital* for each Hydrogen - to which we have to add spin information.\n",
    "This results in two *spin-orbitals* per each Hydrogen atom: a total of 4 atomic orbitals (i.e. 8 spin-orbitals) for an H4 molecule.\n",
    "\n",
    "To construct an orthonormal (of course still incomplete) parametrization of fields, we take linear combinations of these 4 orbitals. The *canonical orbitals* a a special orthonormal combination of atomic orbitals, obtained through the Hartree-Fock method.\n",
    "The ground-state Slater determinant constructed on the canonical orbitals minimizes the total energy, accounting for electron-electron interactions with a mean-field approach.\n",
    "\n",
    "The `canonical_orbitals` matrix encodes the linear combination of atomic orbitals taken to construct the canonical orbitals:"
   ]
  },
  {
   "cell_type": "code",
   "execution_count": 16,
   "metadata": {
    "ExecuteTime": {
     "end_time": "2020-06-06T15:40:33.247042Z",
     "start_time": "2020-06-06T15:40:33.242419Z"
    }
   },
   "outputs": [
    {
     "data": {
      "text/plain": [
       "array([[ 0.474, -0.   ,  0.   ,  1.287],\n",
       "       [ 0.282,  0.105,  0.963, -0.563],\n",
       "       [ 0.282, -0.887, -0.391, -0.563],\n",
       "       [ 0.282,  0.782, -0.572, -0.563]])"
      ]
     },
     "execution_count": 16,
     "metadata": {},
     "output_type": "execute_result"
    }
   ],
   "source": [
    "data_dict['canonical_orbitals'].round(3)"
   ]
  },
  {
   "cell_type": "markdown",
   "metadata": {},
   "source": [
    "The rows relate to each atomic orbital, ordered as the respective atoms appear in `geometry`.\n",
    "The columns represent molecular orbitals, ordered by increasing single-particle energy.\n",
    "These are the energies saved in `orbital_energies`."
   ]
  },
  {
   "cell_type": "code",
   "execution_count": 20,
   "metadata": {
    "ExecuteTime": {
     "end_time": "2020-06-06T15:58:01.311362Z",
     "start_time": "2020-06-06T15:58:01.307136Z"
    }
   },
   "outputs": [
    {
     "data": {
      "text/plain": [
       "array([-0.682,  0.043,  0.043,  0.569])"
      ]
     },
     "execution_count": 20,
     "metadata": {},
     "output_type": "execute_result"
    }
   ],
   "source": [
    "data_dict['orbital_energies'].round(3)"
   ]
  },
  {
   "cell_type": "markdown",
   "metadata": {},
   "source": [
    "Typically on a quantum computer, under Jordan-Wigner encoding, each pair of qubits will represent a canonical orbital (2 qubits because for each orbital there are two spins, i.e. two spin-orbitals).\n",
    "The `ground_states` saved in these data are encoded in this way.\n",
    "\n",
    "The `canonical_to_oao` matrix encodes which linear combination of atomic orbitals needs to be taken to construct a orthonormal version of the atomic orbitals (Orthogonal Atomic Orbitals, OAO).\n",
    "This might be useful in later stages of the project: using a Givens rotations circuit we can change the state encoding such that each pair of qubits corresponds to one OAO.\n",
    "This would allow to directly connect the quantum state to the geometry, as each orbital would be \"localized\" at the position of the respective atom."
   ]
  },
  {
   "cell_type": "code",
   "execution_count": 19,
   "metadata": {
    "ExecuteTime": {
     "end_time": "2020-06-06T15:57:55.504474Z",
     "start_time": "2020-06-06T15:57:55.500002Z"
    }
   },
   "outputs": [
    {
     "data": {
      "text/plain": [
       "array([[ 0.696,  0.414,  0.414,  0.414],\n",
       "       [-0.   ,  0.088, -0.747,  0.659],\n",
       "       [ 0.   ,  0.812, -0.329, -0.482],\n",
       "       [ 0.797, -0.349, -0.349, -0.349]])"
      ]
     },
     "execution_count": 19,
     "metadata": {},
     "output_type": "execute_result"
    }
   ],
   "source": [
    "data_dict['canonical_to_oao'].round(3)"
   ]
  },
  {
   "cell_type": "markdown",
   "metadata": {},
   "source": [
    "# Utilities\n",
    "\n",
    "## List  files"
   ]
  },
  {
   "cell_type": "code",
   "execution_count": 21,
   "metadata": {
    "ExecuteTime": {
     "end_time": "2020-06-07T20:20:51.280228Z",
     "start_time": "2020-06-07T20:20:51.274518Z"
    },
    "scrolled": true
   },
   "outputs": [
    {
     "name": "stdout",
     "output_type": "stream",
     "text": [
      "MOLECULES_DIR content: 107 files\n",
      "H,0,0,0.0;H,0.4146,0,0.0;H,-0.1098,-0.7803,0.0;H,-0.3798,-0.2336,-0.3309.hdf5\n",
      "H,0,0,0.0;H,0.4151,0,0.0;H,-0.3414,0.4347,0.0;H,0.9643,0.1957,0.1622.hdf5\n",
      "H,0,0,0.0;H,0.4176,0,0.0;H,0.9165,-0.0483,0.0;H,0.284,1.2326,-0.0431.hdf5\n",
      "H,0,0,0.0;H,0.4182,0,0.0;H,-0.491,0.2999,0.0;H,-0.3502,0.1393,-0.3468.hdf5\n",
      "H,0,0,0.0;H,0.4304,0,0.0;H,0.5835,-0.8789,0.0;H,0.16,-0.4559,-0.5024.hdf5\n",
      "...\n",
      "\n",
      "DATA_DIR content: 107 files\n",
      "H,0,0,0.0;H,0.4146,0,0.0;H,-0.1098,-0.7803,0.0;H,-0.3798,-0.2336,-0.3309.json\n",
      "H,0,0,0.0;H,0.4151,0,0.0;H,-0.3414,0.4347,0.0;H,0.9643,0.1957,0.1622.json\n",
      "H,0,0,0.0;H,0.4176,0,0.0;H,0.9165,-0.0483,0.0;H,0.284,1.2326,-0.0431.json\n",
      "H,0,0,0.0;H,0.4182,0,0.0;H,-0.491,0.2999,0.0;H,-0.3502,0.1393,-0.3468.json\n",
      "H,0,0,0.0;H,0.4304,0,0.0;H,0.5835,-0.8789,0.0;H,0.16,-0.4559,-0.5024.json\n",
      "...\n"
     ]
    }
   ],
   "source": [
    "import os\n",
    "from load_lib import *\n",
    "    \n",
    "molecule_files = sorted(os.listdir(MOLECULES_DIR))\n",
    "data_files = sorted(os.listdir(JSON_DIR))\n",
    "    \n",
    "print(f'MOLECULES_DIR content: {len(molecule_files)} files')\n",
    "print(*molecule_files[:5], '...', sep='\\n')\n",
    "print(f'\\nDATA_DIR content: {len(data_files)} files')\n",
    "print(*data_files[:5], '...', sep='\\n')"
   ]
  },
  {
   "cell_type": "markdown",
   "metadata": {},
   "source": [
    "## Prompt to delete molecule and data files "
   ]
  },
  {
   "cell_type": "code",
   "execution_count": 3,
   "metadata": {
    "ExecuteTime": {
     "end_time": "2020-06-06T14:20:48.566467Z",
     "start_time": "2020-06-06T14:20:47.615932Z"
    }
   },
   "outputs": [
    {
     "name": "stdout",
     "output_type": "stream",
     "text": [
      "remove all data files from MOLECULE_DIR? [y/n]\n",
      "y\n",
      "remove all data files from JSON_DIR? [y/n]\n",
      "y\n"
     ]
    }
   ],
   "source": [
    "def clean_data():\n",
    "    print('remove all data files from MOLECULE_DIR? [y/n]')\n",
    "    inp = input()\n",
    "    if inp == 'y':\n",
    "        for f in os.listdir(MOLECULES_DIR):\n",
    "            os.remove(MOLECULES_DIR + f)\n",
    "    print('remove all data files from JSON_DIR? [y/n]')\n",
    "    inp = input()\n",
    "    if inp == 'y':\n",
    "        for f in os.listdir(JSON_DIR):\n",
    "            os.remove(JSON_DIR + f)\n",
    "clean_data() "
   ]
  }
 ],
 "metadata": {
  "hide_input": false,
  "kernelspec": {
   "display_name": "Python 3",
   "language": "python",
   "name": "python3"
  },
  "language_info": {
   "codemirror_mode": {
    "name": "ipython",
    "version": 3
   },
   "file_extension": ".py",
   "mimetype": "text/x-python",
   "name": "python",
   "nbconvert_exporter": "python",
   "pygments_lexer": "ipython3",
   "version": "3.7.4"
  },
  "notify_time": "10",
  "toc": {
   "base_numbering": 1,
   "nav_menu": {},
   "number_sections": true,
   "sideBar": true,
   "skip_h1_title": false,
   "title_cell": "Table of Contents",
   "title_sidebar": "Contents",
   "toc_cell": false,
   "toc_position": {
    "height": "calc(100% - 180px)",
    "left": "10px",
    "top": "150px",
    "width": "223px"
   },
   "toc_section_display": true,
   "toc_window_display": true
  },
  "varInspector": {
   "cols": {
    "lenName": 16,
    "lenType": 16,
    "lenVar": 40
   },
   "kernels_config": {
    "python": {
     "delete_cmd_postfix": "",
     "delete_cmd_prefix": "del ",
     "library": "var_list.py",
     "varRefreshCmd": "print(var_dic_list())"
    },
    "r": {
     "delete_cmd_postfix": ") ",
     "delete_cmd_prefix": "rm(",
     "library": "var_list.r",
     "varRefreshCmd": "cat(var_dic_list()) "
    }
   },
   "types_to_exclude": [
    "module",
    "function",
    "builtin_function_or_method",
    "instance",
    "_Feature"
   ],
   "window_display": false
  }
 },
 "nbformat": 4,
 "nbformat_minor": 4
}
