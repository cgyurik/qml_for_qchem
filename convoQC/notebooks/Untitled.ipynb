{
 "cells": [
  {
   "cell_type": "code",
   "execution_count": 1,
   "metadata": {},
   "outputs": [],
   "source": [
    "import numpy\n",
    "import cirq\n",
    "import openfermion\n",
    "\n",
    "import itertools"
   ]
  },
  {
   "cell_type": "raw",
   "metadata": {},
   "source": [
    "def append_operators(n_electrons, n_qubits, only_singles=True):\n",
    "    \"\"\"\n",
    "    Add all operators that are not included.\n",
    "    \n",
    "    For both spin conserving and not spin conserving\n",
    "    \n",
    "    Args:\n",
    "        operator (FermionOperator):  Operator to which is added.\n",
    "        n_electrons (int):           Number electrons in system.\n",
    "        n_qubits (int):              Number of qubits.\n",
    "        only_singles(Boolean):       Add only singels or singles and doubles\n",
    "        \n",
    "    Returns:\n",
    "        ucc_spin, ucc_all (FerminOperator): Complete spin conserving operator and\n",
    "        complete operator\n",
    "        \n",
    "    Notes:\n",
    "        This function add the missing operators with a value of 1.0\n",
    "    \"\"\"\n",
    "\n",
    "    ucc_all = openfermion.FermionOperator()\n",
    "    ucc_spin = openfermion.FermionOperator()\n",
    "    for j in range(0,n_electrons):\n",
    "        for b in range(n_electrons,n_qubits): \n",
    "            temp_op_add = openfermion.FermionOperator('{}^ {}'.format(b,j), 1.0)\n",
    "            ucc_all += temp_op_add\n",
    "            ucc_all += openfermion.hermitian_conjugated(temp_op_add)\n",
    "            if (b%2 == j%2):\n",
    "                ucc_spin += temp_op_add\n",
    "                ucc_spin += openfermion.hermitian_conjugated(1.0*temp_op_add)\n",
    "            if not(only_singles):\n",
    "                for i in range(0+j,n_electrons):  \n",
    "                    for a in range(b,n_qubits):\n",
    "                        temp_op_add = openfermion.FermionOperator('{}^ {}^ {} {}'.format(a,b,i,j), 1.0)\n",
    "                        if (a%2 == i%2)*(b%2 == j%2) or (a%2 == j%2)*(b%2 == i%2):\n",
    "                            print(a,b,i,j)\n",
    "                            ucc_spin += temp_op_add\n",
    "                            ucc_spin += openfermion.hermitian_conjugated(1.0*temp_op_add)\n",
    "\n",
    "    return openfermion.normal_ordered(ucc_spin)"
   ]
  },
  {
   "cell_type": "code",
   "execution_count": 2,
   "metadata": {},
   "outputs": [],
   "source": [
    "from openfermion import FermionOperator"
   ]
  },
  {
   "cell_type": "code",
   "execution_count": 3,
   "metadata": {},
   "outputs": [],
   "source": [
    "def append_operators(operator, n_electrons, n_qubits, only_singles=False):\n",
    "\n",
    "    \"\"\"\n",
    "    Add all operators that are not included. For both spin conserving and \n",
    "    not spin conserving\n",
    "    \n",
    "    Args:\n",
    "        operator (FermionOperator):  Operator to which is added.\n",
    "        n_electrons (int):           Number electrons in system.\n",
    "        n_qubits (int):              Number of qubits.\n",
    "        only_singles(Boolean):       Add only singels or singles and doubles\n",
    "        \n",
    "    Returns:\n",
    "        ucc_spin, ucc_all (FerminOperator): Complete spin conserving operator and\n",
    "        complete operator\n",
    "        \n",
    "    Notes:\n",
    "        This function add the missing operators with a value of 1.0\n",
    "    \"\"\"\n",
    "\n",
    "    ucc_all = FermionOperator()\n",
    "    ucc_spin =FermionOperator()\n",
    "    for j in range(0,n_electrons):\n",
    "        for b in range(n_electrons,n_qubits): \n",
    "            temp_op_add = FermionOperator('{}^ {}'.format(b,j), 1.0)\n",
    "            if list(temp_op_add.terms.keys())[0] not in list(operator.terms.keys()):\n",
    "                ucc_all += temp_op_add\n",
    "                ucc_all += openfermion.hermitian_conjugated(temp_op_add)\n",
    "                if (b%2 == j%2):\n",
    "                    ucc_spin += temp_op_add\n",
    "                    ucc_spin += openfermion.hermitian_conjugated(temp_op_add)\n",
    "            if not(only_singles):\n",
    "                for i in range(0+j,n_electrons):  \n",
    "                    for a in range(b,n_qubits):\n",
    "                        temp_op_add = FermionOperator('{}^ {}^ {} {}'.format(a,b,i,j), 1.0)\n",
    "                        if list(temp_op_add.terms.keys())[0] not in list(operator.terms.keys()):\n",
    "                            ucc_all += temp_op_add\n",
    "                            ucc_all += openfermion.hermitian_conjugated(temp_op_add)\n",
    "                            if (a%2 == i%2)*(b%2 == j%2) or (a%2 == j%2)*(b%2 == i%2):\n",
    "                                ucc_spin += temp_op_add\n",
    "                                ucc_spin += openfermion.hermitian_conjugated(temp_op_add)\n",
    "    ucc_all +=operator\n",
    "    ucc_spin+=operator\n",
    "    return openfermion.normal_ordered(ucc_spin), openfermion.normal_ordered(ucc_all)"
   ]
  },
  {
   "cell_type": "code",
   "execution_count": 4,
   "metadata": {},
   "outputs": [],
   "source": [
    "fop_mart = append_operators(openfermion.FermionOperator(), 4,8)[1]"
   ]
  },
  {
   "cell_type": "code",
   "execution_count": 40,
   "metadata": {},
   "outputs": [],
   "source": [
    "def _generate_ucc_amplitudes_spin_conserved(n_electrons, n_orbitals):\n",
    "    \"\"\"\n",
    "    Create list of amplitudes to generate UCC operators.\n",
    "    \n",
    "    n_electrons (int): Number of electrons.\n",
    "    n_orbitals (int): Number of spin-orbitals, equivalent to number of qubits.\n",
    "    \n",
    "    Returns:\n",
    "        single_amplitudes, double_amplitudes (list): List of single\n",
    "            and double amplitudes as [[i,j], t_ij, [k,l], t_kl]\n",
    "    \"\"\"\n",
    "    single_amplitudes = []\n",
    "    double_amplitudes = []\n",
    "    for one_el in range(0, n_electrons):\n",
    "        for unocc_orb in range(n_electrons, n_orbitals):\n",
    "            if (unocc_orb%2 == one_el%2):\n",
    "                single_amplitudes.append([[unocc_orb, one_el], 1.0])\n",
    "            for two_el in range(one_el, n_electrons):\n",
    "                for two_unocc_orb in range(unocc_orb, n_orbitals):\n",
    "                    if (((two_unocc_orb%2 == two_el%2) and\n",
    "                        (unocc_orb%2 == one_el%2) or\n",
    "                        (two_unocc_orb%2 == one_el%2) and\n",
    "                        (unocc_orb%2 == two_el%2)) and\n",
    "                        (two_unocc_orb!=unocc_orb) and \n",
    "                        (two_el!=one_el)):\n",
    "                            double_amplitudes.append([[two_el, two_unocc_orb, one_el, unocc_orb], 1.0])\n",
    "\n",
    "    return single_amplitudes, double_amplitudes"
   ]
  },
  {
   "cell_type": "code",
   "execution_count": 41,
   "metadata": {},
   "outputs": [],
   "source": [
    "sing, doubs  = _generate_ucc_amplitudes_spin_conserved(4, 8)"
   ]
  },
  {
   "cell_type": "code",
   "execution_count": 42,
   "metadata": {},
   "outputs": [
    {
     "name": "stdout",
     "output_type": "stream",
     "text": [
      "[[[4, 0], 1.0], [[6, 0], 1.0], [[5, 1], 1.0], [[7, 1], 1.0], [[4, 2], 1.0], [[6, 2], 1.0], [[5, 3], 1.0], [[7, 3], 1.0]] [[[1, 5, 0, 4], 1.0], [[1, 7, 0, 4], 1.0], [[2, 6, 0, 4], 1.0], [[3, 5, 0, 4], 1.0], [[3, 7, 0, 4], 1.0], [[1, 6, 0, 5], 1.0], [[3, 6, 0, 5], 1.0], [[1, 7, 0, 6], 1.0], [[3, 7, 0, 6], 1.0], [[2, 5, 1, 4], 1.0], [[2, 7, 1, 4], 1.0], [[2, 6, 1, 5], 1.0], [[3, 7, 1, 5], 1.0], [[2, 7, 1, 6], 1.0], [[3, 5, 2, 4], 1.0], [[3, 7, 2, 4], 1.0], [[3, 6, 2, 5], 1.0], [[3, 7, 2, 6], 1.0]]\n"
     ]
    }
   ],
   "source": [
    "print(sing, doubs)"
   ]
  },
  {
   "cell_type": "code",
   "execution_count": 43,
   "metadata": {},
   "outputs": [
    {
     "data": {
      "text/plain": [
       "(8, 2)"
      ]
     },
     "execution_count": 43,
     "metadata": {},
     "output_type": "execute_result"
    }
   ],
   "source": [
    "numpy.shape(sing)"
   ]
  },
  {
   "cell_type": "code",
   "execution_count": 44,
   "metadata": {},
   "outputs": [
    {
     "data": {
      "text/plain": [
       "[[[1, 5, 0, 4], 1.0],\n",
       " [[1, 7, 0, 4], 1.0],\n",
       " [[2, 6, 0, 4], 1.0],\n",
       " [[3, 5, 0, 4], 1.0],\n",
       " [[3, 7, 0, 4], 1.0],\n",
       " [[1, 6, 0, 5], 1.0],\n",
       " [[3, 6, 0, 5], 1.0],\n",
       " [[1, 7, 0, 6], 1.0],\n",
       " [[3, 7, 0, 6], 1.0],\n",
       " [[2, 5, 1, 4], 1.0],\n",
       " [[2, 7, 1, 4], 1.0],\n",
       " [[2, 6, 1, 5], 1.0],\n",
       " [[3, 7, 1, 5], 1.0],\n",
       " [[2, 7, 1, 6], 1.0],\n",
       " [[3, 5, 2, 4], 1.0],\n",
       " [[3, 7, 2, 4], 1.0],\n",
       " [[3, 6, 2, 5], 1.0],\n",
       " [[3, 7, 2, 6], 1.0]]"
      ]
     },
     "execution_count": 44,
     "metadata": {},
     "output_type": "execute_result"
    }
   ],
   "source": [
    "doubs"
   ]
  },
  {
   "cell_type": "code",
   "execution_count": 45,
   "metadata": {},
   "outputs": [
    {
     "data": {
      "text/plain": [
       "36"
      ]
     },
     "execution_count": 45,
     "metadata": {},
     "output_type": "execute_result"
    }
   ],
   "source": [
    "len(openfermion.normal_ordered(openfermion.uccsd_generator([], doubs)).terms)"
   ]
  },
  {
   "cell_type": "code",
   "execution_count": 46,
   "metadata": {},
   "outputs": [
    {
     "data": {
      "text/plain": [
       "52"
      ]
     },
     "execution_count": 46,
     "metadata": {},
     "output_type": "execute_result"
    }
   ],
   "source": [
    "len(openfermion.normal_ordered(openfermion.uccsd_generator(sing, doubs)).terms)"
   ]
  },
  {
   "cell_type": "code",
   "execution_count": 50,
   "metadata": {},
   "outputs": [],
   "source": [
    "uccs_spin_fop = []\n",
    "uccd_spin_fop = []"
   ]
  },
  {
   "cell_type": "code",
   "execution_count": 51,
   "metadata": {},
   "outputs": [],
   "source": [
    "uccs_spin_fop += [openfermion.normal_ordered(openfermion.uccsd_generator([op], [])) for op in sing]\n",
    "#uccd_spin_fop = openfermion.normal_ordered(openfermion.uccsd_generator([], doubs))"
   ]
  },
  {
   "cell_type": "code",
   "execution_count": 52,
   "metadata": {},
   "outputs": [
    {
     "data": {
      "text/plain": [
       "[-1.0 [0^ 4] +\n",
       " 1.0 [4^ 0],\n",
       " -1.0 [0^ 6] +\n",
       " 1.0 [6^ 0],\n",
       " -1.0 [1^ 5] +\n",
       " 1.0 [5^ 1],\n",
       " -1.0 [1^ 7] +\n",
       " 1.0 [7^ 1],\n",
       " -1.0 [2^ 4] +\n",
       " 1.0 [4^ 2],\n",
       " -1.0 [2^ 6] +\n",
       " 1.0 [6^ 2],\n",
       " -1.0 [3^ 5] +\n",
       " 1.0 [5^ 3],\n",
       " -1.0 [3^ 7] +\n",
       " 1.0 [7^ 3]]"
      ]
     },
     "execution_count": 52,
     "metadata": {},
     "output_type": "execute_result"
    }
   ],
   "source": [
    "uccs_spin_fop"
   ]
  },
  {
   "cell_type": "code",
   "execution_count": 170,
   "metadata": {},
   "outputs": [
    {
     "data": {
      "text/plain": [
       "False"
      ]
     },
     "execution_count": 170,
     "metadata": {},
     "output_type": "execute_result"
    }
   ],
   "source": [
    "openfermion.is_hermitian(ucc_spin_fop)"
   ]
  },
  {
   "cell_type": "code",
   "execution_count": 171,
   "metadata": {},
   "outputs": [
    {
     "data": {
      "text/plain": [
       "1.0 [0^ 4] +\n",
       "1.0 [0^ 6] +\n",
       "1.0 [1^ 5] +\n",
       "1.0 [1^ 7] +\n",
       "1.0 [2^ 4] +\n",
       "1.0 [2^ 6] +\n",
       "1.0 [3^ 5] +\n",
       "1.0 [3^ 7] +\n",
       "-1.0 [4^ 0] +\n",
       "1.0 [4^ 0^ 5 1] +\n",
       "1.0 [4^ 0^ 5 3] +\n",
       "1.0 [4^ 0^ 6 2] +\n",
       "1.0 [4^ 0^ 7 1] +\n",
       "1.0 [4^ 0^ 7 3] +\n",
       "1.0 [4^ 1^ 5 2] +\n",
       "1.0 [4^ 1^ 7 2] +\n",
       "-1.0 [4^ 2] +\n",
       "1.0 [4^ 2^ 5 3] +\n",
       "1.0 [4^ 2^ 7 3] +\n",
       "1.0 [5^ 0^ 6 1] +\n",
       "1.0 [5^ 0^ 6 3] +\n",
       "-1.0 [5^ 1] +\n",
       "-1.0 [5^ 1^ 4 0] +\n",
       "1.0 [5^ 1^ 6 2] +\n",
       "1.0 [5^ 1^ 7 3] +\n",
       "-1.0 [5^ 2^ 4 1] +\n",
       "1.0 [5^ 2^ 6 3] +\n",
       "-1.0 [5^ 3] +\n",
       "-1.0 [5^ 3^ 4 0] +\n",
       "-1.0 [5^ 3^ 4 2] +\n",
       "-1.0 [6^ 0] +\n",
       "1.0 [6^ 0^ 7 1] +\n",
       "1.0 [6^ 0^ 7 3] +\n",
       "-1.0 [6^ 1^ 5 0] +\n",
       "1.0 [6^ 1^ 7 2] +\n",
       "-1.0 [6^ 2] +\n",
       "-1.0 [6^ 2^ 4 0] +\n",
       "-1.0 [6^ 2^ 5 1] +\n",
       "1.0 [6^ 2^ 7 3] +\n",
       "-1.0 [6^ 3^ 5 0] +\n",
       "-1.0 [6^ 3^ 5 2] +\n",
       "-1.0 [7^ 1] +\n",
       "-1.0 [7^ 1^ 4 0] +\n",
       "-1.0 [7^ 1^ 6 0] +\n",
       "-1.0 [7^ 2^ 4 1] +\n",
       "-1.0 [7^ 2^ 6 1] +\n",
       "-1.0 [7^ 3] +\n",
       "-1.0 [7^ 3^ 4 0] +\n",
       "-1.0 [7^ 3^ 4 2] +\n",
       "-1.0 [7^ 3^ 5 1] +\n",
       "-1.0 [7^ 3^ 6 0] +\n",
       "-1.0 [7^ 3^ 6 2]"
      ]
     },
     "execution_count": 171,
     "metadata": {},
     "output_type": "execute_result"
    }
   ],
   "source": [
    "ucc_spin_fop"
   ]
  },
  {
   "cell_type": "code",
   "execution_count": 161,
   "metadata": {},
   "outputs": [
    {
     "data": {
      "text/plain": [
       "1.0 [0^ 4] +\n",
       "1.0 [0^ 5] +\n",
       "1.0 [0^ 6] +\n",
       "1.0 [0^ 7] +\n",
       "1.0 [1^ 0^ 5 4] +\n",
       "1.0 [1^ 0^ 6 4] +\n",
       "1.0 [1^ 0^ 6 5] +\n",
       "1.0 [1^ 0^ 7 4] +\n",
       "1.0 [1^ 0^ 7 5] +\n",
       "1.0 [1^ 0^ 7 6] +\n",
       "1.0 [1^ 4] +\n",
       "1.0 [1^ 5] +\n",
       "1.0 [1^ 6] +\n",
       "1.0 [1^ 7] +\n",
       "1.0 [2^ 0^ 5 4] +\n",
       "1.0 [2^ 0^ 6 4] +\n",
       "1.0 [2^ 0^ 6 5] +\n",
       "1.0 [2^ 0^ 7 4] +\n",
       "1.0 [2^ 0^ 7 5] +\n",
       "1.0 [2^ 0^ 7 6] +\n",
       "1.0 [2^ 1^ 5 4] +\n",
       "1.0 [2^ 1^ 6 4] +\n",
       "1.0 [2^ 1^ 6 5] +\n",
       "1.0 [2^ 1^ 7 4] +\n",
       "1.0 [2^ 1^ 7 5] +\n",
       "1.0 [2^ 1^ 7 6] +\n",
       "1.0 [2^ 4] +\n",
       "1.0 [2^ 5] +\n",
       "1.0 [2^ 6] +\n",
       "1.0 [2^ 7] +\n",
       "1.0 [3^ 0^ 5 4] +\n",
       "1.0 [3^ 0^ 6 4] +\n",
       "1.0 [3^ 0^ 6 5] +\n",
       "1.0 [3^ 0^ 7 4] +\n",
       "1.0 [3^ 0^ 7 5] +\n",
       "1.0 [3^ 0^ 7 6] +\n",
       "1.0 [3^ 1^ 5 4] +\n",
       "1.0 [3^ 1^ 6 4] +\n",
       "1.0 [3^ 1^ 6 5] +\n",
       "1.0 [3^ 1^ 7 4] +\n",
       "1.0 [3^ 1^ 7 5] +\n",
       "1.0 [3^ 1^ 7 6] +\n",
       "1.0 [3^ 2^ 5 4] +\n",
       "1.0 [3^ 2^ 6 4] +\n",
       "1.0 [3^ 2^ 6 5] +\n",
       "1.0 [3^ 2^ 7 4] +\n",
       "1.0 [3^ 2^ 7 5] +\n",
       "1.0 [3^ 2^ 7 6] +\n",
       "1.0 [3^ 4] +\n",
       "1.0 [3^ 5] +\n",
       "1.0 [3^ 6] +\n",
       "1.0 [3^ 7] +\n",
       "1.0 [4^ 0] +\n",
       "1.0 [4^ 1] +\n",
       "1.0 [4^ 2] +\n",
       "1.0 [4^ 3] +\n",
       "1.0 [5^ 0] +\n",
       "1.0 [5^ 1] +\n",
       "1.0 [5^ 2] +\n",
       "1.0 [5^ 3] +\n",
       "1.0 [5^ 4^ 1 0] +\n",
       "1.0 [5^ 4^ 2 0] +\n",
       "1.0 [5^ 4^ 2 1] +\n",
       "1.0 [5^ 4^ 3 0] +\n",
       "1.0 [5^ 4^ 3 1] +\n",
       "1.0 [5^ 4^ 3 2] +\n",
       "1.0 [6^ 0] +\n",
       "1.0 [6^ 1] +\n",
       "1.0 [6^ 2] +\n",
       "1.0 [6^ 3] +\n",
       "1.0 [6^ 4^ 1 0] +\n",
       "1.0 [6^ 4^ 2 0] +\n",
       "1.0 [6^ 4^ 2 1] +\n",
       "1.0 [6^ 4^ 3 0] +\n",
       "1.0 [6^ 4^ 3 1] +\n",
       "1.0 [6^ 4^ 3 2] +\n",
       "1.0 [6^ 5^ 1 0] +\n",
       "1.0 [6^ 5^ 2 0] +\n",
       "1.0 [6^ 5^ 2 1] +\n",
       "1.0 [6^ 5^ 3 0] +\n",
       "1.0 [6^ 5^ 3 1] +\n",
       "1.0 [6^ 5^ 3 2] +\n",
       "1.0 [7^ 0] +\n",
       "1.0 [7^ 1] +\n",
       "1.0 [7^ 2] +\n",
       "1.0 [7^ 3] +\n",
       "1.0 [7^ 4^ 1 0] +\n",
       "1.0 [7^ 4^ 2 0] +\n",
       "1.0 [7^ 4^ 2 1] +\n",
       "1.0 [7^ 4^ 3 0] +\n",
       "1.0 [7^ 4^ 3 1] +\n",
       "1.0 [7^ 4^ 3 2] +\n",
       "1.0 [7^ 5^ 1 0] +\n",
       "1.0 [7^ 5^ 2 0] +\n",
       "1.0 [7^ 5^ 2 1] +\n",
       "1.0 [7^ 5^ 3 0] +\n",
       "1.0 [7^ 5^ 3 1] +\n",
       "1.0 [7^ 5^ 3 2] +\n",
       "1.0 [7^ 6^ 1 0] +\n",
       "1.0 [7^ 6^ 2 0] +\n",
       "1.0 [7^ 6^ 2 1] +\n",
       "1.0 [7^ 6^ 3 0] +\n",
       "1.0 [7^ 6^ 3 1] +\n",
       "1.0 [7^ 6^ 3 2]"
      ]
     },
     "execution_count": 161,
     "metadata": {},
     "output_type": "execute_result"
    }
   ],
   "source": [
    "fop_mart"
   ]
  },
  {
   "cell_type": "code",
   "execution_count": 162,
   "metadata": {},
   "outputs": [],
   "source": [
    "ucc_spin_qop = openfermion.jordan_wigner(ucc_spin_fop)"
   ]
  },
  {
   "cell_type": "code",
   "execution_count": 129,
   "metadata": {},
   "outputs": [
    {
     "data": {
      "text/plain": [
       "-0.125j [X0 X1 X4 Y5] +\n",
       "-0.125j [X0 X1 X4 Z5 Z6 Y7] +\n",
       "0.125j [X0 X1 Y4 X5] +\n",
       "0.125j [X0 X1 Y4 Z5 Z6 X7] +\n",
       "-0.125j [X0 X1 X5 Y6] +\n",
       "0.125j [X0 X1 Y5 X6] +\n",
       "-0.125j [X0 X1 X6 Y7] +\n",
       "0.125j [X0 X1 Y6 X7] +\n",
       "-0.125j [X0 Y1 X4 X5] +\n",
       "-0.125j [X0 Y1 X4 Z5 Z6 X7] +\n",
       "-0.125j [X0 Y1 Y4 Y5] +\n",
       "-0.125j [X0 Y1 Y4 Z5 Z6 Y7] +\n",
       "-0.125j [X0 Y1 X5 X6] +\n",
       "-0.125j [X0 Y1 Y5 Y6] +\n",
       "-0.125j [X0 Y1 X6 X7] +\n",
       "-0.125j [X0 Y1 Y6 Y7] +\n",
       "-0.125j [X0 Z1 X2 X4 Z5 Y6] +\n",
       "0.125j [X0 Z1 X2 Y4 Z5 X6] +\n",
       "-0.5j [X0 Z1 Y2] +\n",
       "-0.125j [X0 Z1 Y2 X4 Z5 X6] +\n",
       "-0.125j [X0 Z1 Y2 Y4 Z5 Y6] +\n",
       "0.25j [X0 Z1 Y2 Z4] +\n",
       "0.25j [X0 Z1 Y2 Z6] +\n",
       "-0.125j [X0 Z1 Z2 X3 X4 Y5] +\n",
       "-0.125j [X0 Z1 Z2 X3 X4 Z5 Z6 Y7] +\n",
       "0.125j [X0 Z1 Z2 X3 Y4 X5] +\n",
       "0.125j [X0 Z1 Z2 X3 Y4 Z5 Z6 X7] +\n",
       "-0.125j [X0 Z1 Z2 X3 X5 Y6] +\n",
       "0.125j [X0 Z1 Z2 X3 Y5 X6] +\n",
       "-0.125j [X0 Z1 Z2 X3 X6 Y7] +\n",
       "0.125j [X0 Z1 Z2 X3 Y6 X7] +\n",
       "-0.125j [X0 Z1 Z2 Y3 X4 X5] +\n",
       "-0.125j [X0 Z1 Z2 Y3 X4 Z5 Z6 X7] +\n",
       "-0.125j [X0 Z1 Z2 Y3 Y4 Y5] +\n",
       "-0.125j [X0 Z1 Z2 Y3 Y4 Z5 Z6 Y7] +\n",
       "-0.125j [X0 Z1 Z2 Y3 X5 X6] +\n",
       "-0.125j [X0 Z1 Z2 Y3 Y5 Y6] +\n",
       "-0.125j [X0 Z1 Z2 Y3 X6 X7] +\n",
       "-0.125j [X0 Z1 Z2 Y3 Y6 Y7] +\n",
       "-0.5j [X0 Z1 Z2 Z3 Y4] +\n",
       "-0.5j [X0 Z1 Z2 Z3 Z4 Z5 Y6] +\n",
       "0.125j [Y0 X1 X4 X5] +\n",
       "0.125j [Y0 X1 X4 Z5 Z6 X7] +\n",
       "0.125j [Y0 X1 Y4 Y5] +\n",
       "0.125j [Y0 X1 Y4 Z5 Z6 Y7] +\n",
       "0.125j [Y0 X1 X5 X6] +\n",
       "0.125j [Y0 X1 Y5 Y6] +\n",
       "0.125j [Y0 X1 X6 X7] +\n",
       "0.125j [Y0 X1 Y6 Y7] +\n",
       "-0.125j [Y0 Y1 X4 Y5] +\n",
       "-0.125j [Y0 Y1 X4 Z5 Z6 Y7] +\n",
       "0.125j [Y0 Y1 Y4 X5] +\n",
       "0.125j [Y0 Y1 Y4 Z5 Z6 X7] +\n",
       "-0.125j [Y0 Y1 X5 Y6] +\n",
       "0.125j [Y0 Y1 Y5 X6] +\n",
       "-0.125j [Y0 Y1 X6 Y7] +\n",
       "0.125j [Y0 Y1 Y6 X7] +\n",
       "0.5j [Y0 Z1 X2] +\n",
       "0.125j [Y0 Z1 X2 X4 Z5 X6] +\n",
       "0.125j [Y0 Z1 X2 Y4 Z5 Y6] +\n",
       "-0.25j [Y0 Z1 X2 Z4] +\n",
       "-0.25j [Y0 Z1 X2 Z6] +\n",
       "-0.125j [Y0 Z1 Y2 X4 Z5 Y6] +\n",
       "0.125j [Y0 Z1 Y2 Y4 Z5 X6] +\n",
       "0.125j [Y0 Z1 Z2 X3 X4 X5] +\n",
       "0.125j [Y0 Z1 Z2 X3 X4 Z5 Z6 X7] +\n",
       "0.125j [Y0 Z1 Z2 X3 Y4 Y5] +\n",
       "0.125j [Y0 Z1 Z2 X3 Y4 Z5 Z6 Y7] +\n",
       "0.125j [Y0 Z1 Z2 X3 X5 X6] +\n",
       "0.125j [Y0 Z1 Z2 X3 Y5 Y6] +\n",
       "0.125j [Y0 Z1 Z2 X3 X6 X7] +\n",
       "0.125j [Y0 Z1 Z2 X3 Y6 Y7] +\n",
       "-0.125j [Y0 Z1 Z2 Y3 X4 Y5] +\n",
       "-0.125j [Y0 Z1 Z2 Y3 X4 Z5 Z6 Y7] +\n",
       "0.125j [Y0 Z1 Z2 Y3 Y4 X5] +\n",
       "0.125j [Y0 Z1 Z2 Y3 Y4 Z5 Z6 X7] +\n",
       "-0.125j [Y0 Z1 Z2 Y3 X5 Y6] +\n",
       "0.125j [Y0 Z1 Z2 Y3 Y5 X6] +\n",
       "-0.125j [Y0 Z1 Z2 Y3 X6 Y7] +\n",
       "0.125j [Y0 Z1 Z2 Y3 Y6 X7] +\n",
       "0.5j [Y0 Z1 Z2 Z3 X4] +\n",
       "0.5j [Y0 Z1 Z2 Z3 Z4 Z5 X6] +\n",
       "0.25j [Z0 X4 Z5 Y6] +\n",
       "-0.25j [Z0 Y4 Z5 X6] +\n",
       "-0.125j [X1 X2 X4 Y5] +\n",
       "-0.125j [X1 X2 X4 Z5 Z6 Y7] +\n",
       "0.125j [X1 X2 Y4 X5] +\n",
       "0.125j [X1 X2 Y4 Z5 Z6 X7] +\n",
       "-0.125j [X1 X2 X5 Y6] +\n",
       "0.125j [X1 X2 Y5 X6] +\n",
       "-0.125j [X1 X2 X6 Y7] +\n",
       "0.125j [X1 X2 Y6 X7] +\n",
       "-0.125j [X1 Y2 X4 X5] +\n",
       "-0.125j [X1 Y2 X4 Z5 Z6 X7] +\n",
       "-0.125j [X1 Y2 Y4 Y5] +\n",
       "-0.125j [X1 Y2 Y4 Z5 Z6 Y7] +\n",
       "-0.125j [X1 Y2 X5 X6] +\n",
       "-0.125j [X1 Y2 Y5 Y6] +\n",
       "-0.125j [X1 Y2 X6 X7] +\n",
       "-0.125j [X1 Y2 Y6 Y7] +\n",
       "-0.125j [X1 Z2 X3 X5 Z6 Y7] +\n",
       "0.125j [X1 Z2 X3 Y5 Z6 X7] +\n",
       "-0.5j [X1 Z2 Y3] +\n",
       "-0.125j [X1 Z2 Y3 X5 Z6 X7] +\n",
       "-0.125j [X1 Z2 Y3 Y5 Z6 Y7] +\n",
       "0.25j [X1 Z2 Y3 Z5] +\n",
       "0.25j [X1 Z2 Y3 Z7] +\n",
       "-0.5j [X1 Z2 Z3 Z4 Y5] +\n",
       "-0.5j [X1 Z2 Z3 Z4 Z5 Z6 Y7] +\n",
       "0.125j [Y1 X2 X4 X5] +\n",
       "0.125j [Y1 X2 X4 Z5 Z6 X7] +\n",
       "0.125j [Y1 X2 Y4 Y5] +\n",
       "0.125j [Y1 X2 Y4 Z5 Z6 Y7] +\n",
       "0.125j [Y1 X2 X5 X6] +\n",
       "0.125j [Y1 X2 Y5 Y6] +\n",
       "0.125j [Y1 X2 X6 X7] +\n",
       "0.125j [Y1 X2 Y6 Y7] +\n",
       "-0.125j [Y1 Y2 X4 Y5] +\n",
       "-0.125j [Y1 Y2 X4 Z5 Z6 Y7] +\n",
       "0.125j [Y1 Y2 Y4 X5] +\n",
       "0.125j [Y1 Y2 Y4 Z5 Z6 X7] +\n",
       "-0.125j [Y1 Y2 X5 Y6] +\n",
       "0.125j [Y1 Y2 Y5 X6] +\n",
       "-0.125j [Y1 Y2 X6 Y7] +\n",
       "0.125j [Y1 Y2 Y6 X7] +\n",
       "0.5j [Y1 Z2 X3] +\n",
       "0.125j [Y1 Z2 X3 X5 Z6 X7] +\n",
       "0.125j [Y1 Z2 X3 Y5 Z6 Y7] +\n",
       "-0.25j [Y1 Z2 X3 Z5] +\n",
       "-0.25j [Y1 Z2 X3 Z7] +\n",
       "-0.125j [Y1 Z2 Y3 X5 Z6 Y7] +\n",
       "0.125j [Y1 Z2 Y3 Y5 Z6 X7] +\n",
       "0.5j [Y1 Z2 Z3 Z4 X5] +\n",
       "0.5j [Y1 Z2 Z3 Z4 Z5 Z6 X7] +\n",
       "0.25j [Z1 X5 Z6 Y7] +\n",
       "-0.25j [Z1 Y5 Z6 X7] +\n",
       "-0.125j [X2 X3 X4 Y5] +\n",
       "-0.125j [X2 X3 X4 Z5 Z6 Y7] +\n",
       "0.125j [X2 X3 Y4 X5] +\n",
       "0.125j [X2 X3 Y4 Z5 Z6 X7] +\n",
       "-0.125j [X2 X3 X5 Y6] +\n",
       "0.125j [X2 X3 Y5 X6] +\n",
       "-0.125j [X2 X3 X6 Y7] +\n",
       "0.125j [X2 X3 Y6 X7] +\n",
       "-0.125j [X2 Y3 X4 X5] +\n",
       "-0.125j [X2 Y3 X4 Z5 Z6 X7] +\n",
       "-0.125j [X2 Y3 Y4 Y5] +\n",
       "-0.125j [X2 Y3 Y4 Z5 Z6 Y7] +\n",
       "-0.125j [X2 Y3 X5 X6] +\n",
       "-0.125j [X2 Y3 Y5 Y6] +\n",
       "-0.125j [X2 Y3 X6 X7] +\n",
       "-0.125j [X2 Y3 Y6 Y7] +\n",
       "-0.5j [X2 Z3 Y4] +\n",
       "-0.5j [X2 Z3 Z4 Z5 Y6] +\n",
       "0.125j [Y2 X3 X4 X5] +\n",
       "0.125j [Y2 X3 X4 Z5 Z6 X7] +\n",
       "0.125j [Y2 X3 Y4 Y5] +\n",
       "0.125j [Y2 X3 Y4 Z5 Z6 Y7] +\n",
       "0.125j [Y2 X3 X5 X6] +\n",
       "0.125j [Y2 X3 Y5 Y6] +\n",
       "0.125j [Y2 X3 X6 X7] +\n",
       "0.125j [Y2 X3 Y6 Y7] +\n",
       "-0.125j [Y2 Y3 X4 Y5] +\n",
       "-0.125j [Y2 Y3 X4 Z5 Z6 Y7] +\n",
       "0.125j [Y2 Y3 Y4 X5] +\n",
       "0.125j [Y2 Y3 Y4 Z5 Z6 X7] +\n",
       "-0.125j [Y2 Y3 X5 Y6] +\n",
       "0.125j [Y2 Y3 Y5 X6] +\n",
       "-0.125j [Y2 Y3 X6 Y7] +\n",
       "0.125j [Y2 Y3 Y6 X7] +\n",
       "0.5j [Y2 Z3 X4] +\n",
       "0.5j [Y2 Z3 Z4 Z5 X6] +\n",
       "0.25j [Z2 X4 Z5 Y6] +\n",
       "-0.25j [Z2 Y4 Z5 X6] +\n",
       "-0.5j [X3 Z4 Y5] +\n",
       "-0.5j [X3 Z4 Z5 Z6 Y7] +\n",
       "0.5j [Y3 Z4 X5] +\n",
       "0.5j [Y3 Z4 Z5 Z6 X7] +\n",
       "0.25j [Z3 X5 Z6 Y7] +\n",
       "-0.25j [Z3 Y5 Z6 X7] +\n",
       "-0.5j [X4 Z5 Y6] +\n",
       "0.5j [Y4 Z5 X6] +\n",
       "-0.5j [X5 Z6 Y7] +\n",
       "0.5j [Y5 Z6 X7]"
      ]
     },
     "execution_count": 129,
     "metadata": {},
     "output_type": "execute_result"
    }
   ],
   "source": [
    "ucc_spin_qop"
   ]
  },
  {
   "cell_type": "code",
   "execution_count": null,
   "metadata": {},
   "outputs": [],
   "source": []
  }
 ],
 "metadata": {
  "kernelspec": {
   "display_name": "Python 3",
   "language": "python",
   "name": "python3"
  },
  "language_info": {
   "codemirror_mode": {
    "name": "ipython",
    "version": 3
   },
   "file_extension": ".py",
   "mimetype": "text/x-python",
   "name": "python",
   "nbconvert_exporter": "python",
   "pygments_lexer": "ipython3",
   "version": "3.7.7"
  }
 },
 "nbformat": 4,
 "nbformat_minor": 4
}
