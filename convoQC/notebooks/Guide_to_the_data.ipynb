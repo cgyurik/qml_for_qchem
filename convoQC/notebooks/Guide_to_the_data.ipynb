{
 "cells": [
  {
   "cell_type": "code",
   "execution_count": 1,
   "metadata": {
    "ExecuteTime": {
     "end_time": "2020-07-08T13:15:41.946515Z",
     "start_time": "2020-07-08T13:15:41.943583Z"
    }
   },
   "outputs": [],
   "source": [
    "import sys\n",
    "import os\n",
    "sys.path.append(os.path.abspath('../..'))"
   ]
  },
  {
   "cell_type": "markdown",
   "metadata": {},
   "source": [
    "# Generating data"
   ]
  },
  {
   "cell_type": "markdown",
   "metadata": {},
   "source": [
    "All the code for data generation is in the module `generate_lib`.\n",
    "\n",
    "The quantum chemistry data used in this project are produced using the quantum chemistry packagePsi4 (http://www.psicode.org/).\n",
    "Thanks to the interface package `openfermionpsi4`, the resulting molecular data can be stored in a molecule `.hdf5` file, to be directly loaded inside an `openfermion.MolecularData` object.\n",
    "\n",
    "The molecule files are stored in this repository's `data/molecules/` directory.\n",
    "The name of each file is determined by univocally converting the molecule's geometry to a string (see `MoleculeDataGenerator._generate_filename`).\n",
    "\n",
    "For each molecule, the relevant data for the ML model are also saved as a dictionary in a `.json` with the same name, in the structured directory `data/json/`.\n",
    "The data in the json files is accessible and usable without dependency on any of the aforementioned packages.\n",
    "\n",
    "To generate and save a molecule and relative data, given the geometry, it is sufficient to instantiate the object `MoleculeDataGenerator(geometry)`."
   ]
  },
  {
   "cell_type": "code",
   "execution_count": 2,
   "metadata": {
    "ExecuteTime": {
     "end_time": "2020-07-08T13:15:48.945927Z",
     "start_time": "2020-07-08T13:15:42.799327Z"
    },
    "scrolled": false
   },
   "outputs": [
    {
     "name": "stdout",
     "output_type": "stream",
     "text": [
      "<openfermion.hamiltonians._molecular_data.MolecularData object at 0x7fafc3870c90>\n",
      "dict_keys(['geometry', 'multiplicity', 'canonical_orbitals', 'canonical_to_oao', 'orbital_energies', 'exact_energy', 'ground_states', 'hf_energy'])\n"
     ]
    }
   ],
   "source": [
    "from convoQC.utils.generate_lib import MoleculeDataGenerator\n",
    "\n",
    "# Set the geometry and generate the molecule\n",
    "\n",
    "geometry = (\n",
    "    ('H', (0., 0., 0.)),\n",
    "    ('H', (1., 0., 0.)),\n",
    "    ('H', (0., 1., 0.)),\n",
    "    ('H', (0., 0., 1.))\n",
    ")\n",
    "\n",
    "# instantiating a MoleculeDataGenerator is enough to create molecule+data files\n",
    "gen = MoleculeDataGenerator(geometry) \n",
    "\n",
    "# the object contains the molecule and the relative data dictionary\n",
    "print(gen.molecule)\n",
    "print(gen.data_dict.keys())"
   ]
  },
  {
   "cell_type": "code",
   "execution_count": 3,
   "metadata": {
    "ExecuteTime": {
     "end_time": "2020-07-08T13:15:48.952780Z",
     "start_time": "2020-07-08T13:15:48.948939Z"
    }
   },
   "outputs": [
    {
     "name": "stdout",
     "output_type": "stream",
     "text": [
      "H,0,0,0;H,1,0,0;H,0,1,0;H,0,0,1\n"
     ]
    }
   ],
   "source": [
    "print(gen.filename)"
   ]
  },
  {
   "cell_type": "markdown",
   "metadata": {},
   "source": [
    "Check that degenerate ground state subspace basis vectors are orthonormal"
   ]
  },
  {
   "cell_type": "code",
   "execution_count": 4,
   "metadata": {
    "ExecuteTime": {
     "end_time": "2020-07-08T13:15:48.963193Z",
     "start_time": "2020-07-08T13:15:48.956197Z"
    }
   },
   "outputs": [
    {
     "name": "stdout",
     "output_type": "stream",
     "text": [
      "|<0|0>|^2 =  1.0\n",
      "|<0|1>|^2 =  0.0\n",
      "|<0|2>|^2 =  0.0\n",
      "|<1|1>|^2 =  1.0\n",
      "|<1|2>|^2 =  0.0\n",
      "|<2|2>|^2 =  1.0\n"
     ]
    }
   ],
   "source": [
    "import numpy as np\n",
    "from itertools import combinations_with_replacement\n",
    "ground_states = gen.data_dict['ground_states']\n",
    "for i, j in combinations_with_replacement(range(3), 2):\n",
    "    print(f'|<{i}|{j}>|^2 = ', \n",
    "          round(np.abs(ground_states[:,i].conj() @ ground_states[:,j])**2, 12))"
   ]
  },
  {
   "cell_type": "markdown",
   "metadata": {},
   "source": [
    "Activate and use the following cell to erase the `H,0,0,0;H,1,0,0;H,0,1,0;H,0,0,1` files and test molecule and data generation."
   ]
  },
  {
   "cell_type": "raw",
   "metadata": {
    "ExecuteTime": {
     "end_time": "2020-07-08T12:44:56.180903Z",
     "start_time": "2020-07-08T12:44:56.167875Z"
    }
   },
   "source": [
    "from convoQC.utils import MOLECULES_DIR, JSON_DIR\n",
    "os.remove(MOLECULES_DIR + gen.filename + '.hdf5')\n",
    "os.remove(JSON_DIR + gen.filename + '.json')"
   ]
  },
  {
   "cell_type": "markdown",
   "metadata": {},
   "source": [
    "## Chosen molecule family\n",
    "\n",
    "The first chosen molecule family for this project is $\\mathrm{H}_4$ in various geometries.\n",
    "Some physical limits for the geometry are set:\n",
    "- For each pair of H atoms, the interatomic distance is not smaller than $0.4Å$. This avoids exaggerate orbital ovelaps\n",
    "- For each pair of adjacent atoms (in the ordered in which they're listed in the geometry) the interatomic distance is no more than $1.5Å$. This avoids completely dissociated molecules.\n",
    "\n",
    "Additionally, parameters that are irrelevant for the calculation of translation-invariant and rotation-invariant properties are (for now) fixed:\n",
    "- the fist atom is always at position $(0, 0, 0)$\n",
    "- the second atom is always on the positive X half-axis $(x_1, 0, 0)$, $x_1>0$\n",
    "- the third atom is always on the XY plane $(x_2, y_2, 0)$\n",
    "- the fourth can be anywhere in space, within the previously set limits $(x_3, y_3, z_3)$\n",
    "\n",
    "Finally, for convenience in file naming and data exchange, we keep only 4 decimals in all the $x_i, y_i, z_i$ values:\n",
    "- all positions are forced on a grid with resolution $0.001Å$"
   ]
  },
  {
   "cell_type": "code",
   "execution_count": 5,
   "metadata": {
    "ExecuteTime": {
     "end_time": "2020-07-08T13:15:48.972758Z",
     "start_time": "2020-07-08T13:15:48.967668Z"
    },
    "scrolled": false
   },
   "outputs": [
    {
     "name": "stdout",
     "output_type": "stream",
     "text": [
      "Help on function H4_generate_random_molecule in module convoQC.utils.generate_lib:\n",
      "\n",
      "H4_generate_random_molecule(rng: numpy.random._generator.Generator = Generator(PCG64) at 0x7FAFC4717550, dmin: float = 0.4, dmax: float = 1.5, rounding: int = 4)\n",
      "    Generate and save molecule and data for a valid random geomertry of H4.\n",
      "    \n",
      "    The molecule geometry is of the form:\n",
      "    (\n",
      "        ('H', (0 , 0 , 0 )),\n",
      "        ('H', (x1, 0 , 0 )),\n",
      "        ('H', (x2, y2, 0 )),\n",
      "        ('H', (x3, y3, z3))\n",
      "    )\n",
      "    with the additional constraints:\n",
      "        - `dmin` minimum distance of atom pairs\n",
      "        - `dmax` maximum distance of adjacent atoms\n",
      "    and all values rounded to `rounding` digits\n",
      "    \n",
      "    Args:\n",
      "        rng: a numpy.random generator\n",
      "        dmin: minimum distance between each pair of atoms\n",
      "        dmax: maximum distance between adjacent atoms\n",
      "        rounding: number of digits to which all positions are rounded\n",
      "    \n",
      "    Returns:\n",
      "        MoleculeDataGenerator\n",
      "    \n",
      "    Raises:\n",
      "        FailedGeneration\n",
      "\n"
     ]
    }
   ],
   "source": [
    "from convoQC.utils import H4_generate_random_molecule\n",
    "help(H4_generate_random_molecule)"
   ]
  },
  {
   "cell_type": "code",
   "execution_count": 6,
   "metadata": {
    "ExecuteTime": {
     "end_time": "2020-07-08T13:15:48.990965Z",
     "start_time": "2020-07-08T13:15:48.976025Z"
    },
    "scrolled": true
   },
   "outputs": [
    {
     "data": {
      "text/plain": [
       "[('H', (0.0, 0.0, 0.0)),\n",
       " ('H', (0.8245, 0.0, 0.0)),\n",
       " ('H', (-0.6285, 0.0549, 0.0)),\n",
       " ('H', (0.4455, 0.1899, 0.0464))]"
      ]
     },
     "execution_count": 6,
     "metadata": {},
     "output_type": "execute_result"
    }
   ],
   "source": [
    "from convoQC.utils.generate_lib import H4_generate_valid_geometry\n",
    "H4_generate_valid_geometry()"
   ]
  },
  {
   "cell_type": "markdown",
   "metadata": {},
   "source": [
    "## Generate random H4 data"
   ]
  },
  {
   "cell_type": "code",
   "execution_count": 7,
   "metadata": {
    "ExecuteTime": {
     "end_time": "2020-07-08T13:42:09.507825Z",
     "start_time": "2020-07-08T13:15:50.706819Z"
    },
    "scrolled": true
   },
   "outputs": [
    {
     "name": "stderr",
     "output_type": "stream",
     "text": [
      "100%|██████████| 500/500 [26:18<00:00,  3.16s/it]\n"
     ]
    }
   ],
   "source": [
    "from tqdm import tqdm\n",
    "from convoQC.utils import H4_generate_random_molecule, FailedGeneration\n",
    "\n",
    "n_molecules_to_generate = 500\n",
    "\n",
    "for _ in tqdm(range(n_molecules_to_generate)):\n",
    "    for attempt in range(10):\n",
    "        try:\n",
    "            H4_generate_random_molecule()\n",
    "        except FailedGeneration as exc:\n",
    "            print('Failed to generate random molecule because of:\\n' + str(exc))\n",
    "        else:\n",
    "            break"
   ]
  },
  {
   "cell_type": "markdown",
   "metadata": {},
   "source": [
    "# Loading data for QML model\n",
    "\n",
    "Only the function `load_data` in `load_lib` is needed to load the relevant data for the QML model.\n",
    "`load_lib` also defined `JSON_DIR` and `MOLECULES_DIR` for convenience.\n"
   ]
  },
  {
   "cell_type": "code",
   "execution_count": 8,
   "metadata": {
    "ExecuteTime": {
     "end_time": "2020-07-08T14:26:59.108669Z",
     "start_time": "2020-07-08T14:26:59.105696Z"
    }
   },
   "outputs": [],
   "source": [
    "from convoQC.utils import load_data, JSON_DIR"
   ]
  },
  {
   "cell_type": "markdown",
   "metadata": {
    "ExecuteTime": {
     "end_time": "2020-06-06T13:06:59.969755Z",
     "start_time": "2020-06-06T13:06:59.966258Z"
    }
   },
   "source": [
    "To load all data:"
   ]
  },
  {
   "cell_type": "code",
   "execution_count": 9,
   "metadata": {
    "ExecuteTime": {
     "end_time": "2020-07-08T14:27:00.617555Z",
     "start_time": "2020-07-08T14:27:00.208805Z"
    },
    "scrolled": false
   },
   "outputs": [
    {
     "name": "stdout",
     "output_type": "stream",
     "text": [
      "length of the dataset: 501\n"
     ]
    }
   ],
   "source": [
    "dataset = [load_data(filename) \n",
    "           for filename in os.listdir(JSON_DIR)\n",
    "           if filename.endswith('.json')]\n",
    "\n",
    "print('length of the dataset:', len(dataset))"
   ]
  },
  {
   "cell_type": "markdown",
   "metadata": {},
   "source": [
    "**Example:** count how many of the molecules in the dataset have a singlet ground state and how many have a triplet"
   ]
  },
  {
   "cell_type": "code",
   "execution_count": 10,
   "metadata": {
    "ExecuteTime": {
     "end_time": "2020-07-08T14:27:04.117931Z",
     "start_time": "2020-07-08T14:27:03.865091Z"
    },
    "scrolled": false
   },
   "outputs": [
    {
     "name": "stdout",
     "output_type": "stream",
     "text": [
      "89.6% with multiplicity 1 (449/501)\n",
      "10.4% with multiplicity 3 (52/501)\n"
     ]
    }
   ],
   "source": [
    "multiplicities = [load_data(filename)['multiplicity']\n",
    "                  for filename in os.listdir(JSON_DIR)\n",
    "                  if filename.endswith('.json')]\n",
    "\n",
    "from collections import Counter\n",
    "count = dict(Counter(multiplicities))\n",
    "length = len(multiplicities)\n",
    "for k, v in count.items():\n",
    "    print(f'{v/length*100:0.1f}% with multiplicity {k} ({v}/{length})')"
   ]
  },
  {
   "cell_type": "code",
   "execution_count": 11,
   "metadata": {
    "ExecuteTime": {
     "end_time": "2020-07-08T14:27:09.507976Z",
     "start_time": "2020-07-08T14:27:09.504217Z"
    }
   },
   "outputs": [
    {
     "name": "stdout",
     "output_type": "stream",
     "text": [
      "Average HF error: 0.051 with stddev 0.030\n"
     ]
    }
   ],
   "source": [
    "hf_errors = [d['hf_energy'] - d['exact_energy'] for d in dataset]\n",
    "print(f'Average HF error: {np.mean(hf_errors):.3f} '\n",
    "      f'with stddev {np.std(hf_errors):.3f}')"
   ]
  },
  {
   "cell_type": "markdown",
   "metadata": {},
   "source": [
    "# What are the saved data "
   ]
  },
  {
   "cell_type": "markdown",
   "metadata": {},
   "source": [
    "Let's take as an example one data dictionary:"
   ]
  },
  {
   "cell_type": "code",
   "execution_count": 12,
   "metadata": {
    "ExecuteTime": {
     "end_time": "2020-07-08T14:27:12.791529Z",
     "start_time": "2020-07-08T14:27:12.783814Z"
    },
    "scrolled": true
   },
   "outputs": [
    {
     "name": "stdout",
     "output_type": "stream",
     "text": [
      "\n",
      "content of each data dictionary\n",
      "\n",
      "KEY:                 VALUE TYPE:         \n",
      "------------------------------------------------------------\n",
      "geometry             <class 'list'>       \n",
      "multiplicity         <class 'int'>        \n",
      "canonical_orbitals   <class 'numpy.ndarray'> with shape (4, 4)\n",
      "canonical_to_oao     <class 'numpy.ndarray'> with shape (4, 4)\n",
      "orbital_energies     <class 'numpy.ndarray'> with shape (4,)\n",
      "exact_energy         <class 'float'>      \n",
      "ground_states        <class 'numpy.ndarray'> with shape (256, 3)\n",
      "hf_energy            <class 'float'>      \n"
     ]
    }
   ],
   "source": [
    "from convoQC.utils import load_data\n",
    "import os\n",
    "\n",
    "filename = 'H,0,0,0;H,1,0,0;H,0,1,0;H,0,0,1'\n",
    "data_dict = load_data(filename)\n",
    "\n",
    "print('\\ncontent of each data dictionary\\n')\n",
    "print(f\"{'KEY:':20} {'VALUE TYPE:':20}\\n{'-'*60}\")\n",
    "for k, v in data_dict.items():\n",
    "    print(f'{k:20} {str(type(v)):20}',\n",
    "          f'with shape {v.shape}' if isinstance(v, np.ndarray) else \"\")"
   ]
  },
  {
   "cell_type": "markdown",
   "metadata": {},
   "source": [
    "## Input"
   ]
  },
  {
   "cell_type": "markdown",
   "metadata": {},
   "source": [
    "`geometry` is a list of tuples ('atom_symbol', (x, y, z)):"
   ]
  },
  {
   "cell_type": "code",
   "execution_count": 49,
   "metadata": {
    "ExecuteTime": {
     "end_time": "2020-07-08T12:54:09.060009Z",
     "start_time": "2020-07-08T12:54:09.055133Z"
    }
   },
   "outputs": [
    {
     "data": {
      "text/plain": [
       "[['H', [0.0, 0.0, 0.0]],\n",
       " ['H', [1.0, 0.0, 0.0]],\n",
       " ['H', [0.0, 1.0, 0.0]],\n",
       " ['H', [0.0, 0.0, 1.0]]]"
      ]
     },
     "execution_count": 49,
     "metadata": {},
     "output_type": "execute_result"
    }
   ],
   "source": [
    "data_dict['geometry']"
   ]
  },
  {
   "cell_type": "markdown",
   "metadata": {},
   "source": [
    "`multiplicity` indicates wether the ground state of this molecule is a singlet (1) or triplet (3).\n",
    "All the ground states are saved as complex **column vectors** in a matrix of shape ($2^n$, `multiplicity` )"
   ]
  },
  {
   "cell_type": "code",
   "execution_count": 50,
   "metadata": {
    "ExecuteTime": {
     "end_time": "2020-07-08T12:54:09.687937Z",
     "start_time": "2020-07-08T12:54:09.670408Z"
    },
    "scrolled": true
   },
   "outputs": [
    {
     "name": "stdout",
     "output_type": "stream",
     "text": [
      "multiplicity:  3\n",
      "ground states: \n",
      " [[ 0.   +0.j  0.   +0.j  0.   +0.j]\n",
      " [ 0.   +0.j  0.   +0.j  0.   +0.j]\n",
      " [ 0.   +0.j  0.   +0.j  0.   +0.j]\n",
      " [ 0.   +0.j  0.   +0.j  0.   +0.j]\n",
      " [ 0.   +0.j  0.   +0.j  0.   +0.j]\n",
      " [ 0.   +0.j  0.   +0.j  0.   +0.j]\n",
      " [ 0.   +0.j  0.   +0.j  0.   +0.j]\n",
      " [ 0.   +0.j  0.   +0.j  0.   +0.j]\n",
      " [ 0.   +0.j  0.   +0.j  0.   +0.j]\n",
      " [ 0.   +0.j  0.   +0.j  0.   +0.j]\n",
      " [ 0.   +0.j  0.   +0.j  0.   +0.j]\n",
      " [ 0.   +0.j  0.   +0.j  0.   +0.j]\n",
      " [ 0.   +0.j  0.   +0.j  0.   +0.j]\n",
      " [ 0.   +0.j  0.   +0.j  0.   +0.j]\n",
      " [ 0.   +0.j  0.   +0.j  0.   +0.j]\n",
      " [ 0.   +0.j  0.   +0.j  0.   +0.j]\n",
      " [ 0.   +0.j  0.   +0.j  0.   +0.j]\n",
      " [ 0.   +0.j  0.   +0.j  0.   +0.j]\n",
      " [ 0.   +0.j  0.   +0.j  0.   +0.j]\n",
      " [ 0.   +0.j  0.   +0.j  0.   +0.j]\n",
      " [ 0.   +0.j  0.   +0.j  0.   +0.j]\n",
      " [ 0.   +0.j  0.   +0.j  0.   +0.j]\n",
      " [ 0.   +0.j  0.   +0.j  0.   +0.j]\n",
      " [-0.089+0.j -0.   +0.j  0.001+0.j]\n",
      " [ 0.   +0.j  0.   +0.j  0.   +0.j]\n",
      " [ 0.   +0.j  0.   +0.j  0.   +0.j]\n",
      " [ 0.   +0.j  0.   +0.j  0.   +0.j]\n",
      " [-0.001+0.j  0.001+0.j -0.063+0.j]\n",
      " [ 0.   +0.j  0.   +0.j  0.   +0.j]\n",
      " [ 0.   +0.j  0.   +0.j  0.   +0.j]\n",
      " [ 0.   +0.j  0.   +0.j  0.   +0.j]\n",
      " [ 0.   +0.j  0.   +0.j  0.   +0.j]\n",
      " [ 0.   +0.j  0.   +0.j  0.   +0.j]\n",
      " [ 0.   +0.j  0.   +0.j  0.   +0.j]\n",
      " [ 0.   +0.j  0.   +0.j  0.   +0.j]\n",
      " [ 0.   +0.j  0.   +0.j  0.   +0.j]\n",
      " [ 0.   +0.j  0.   +0.j  0.   +0.j]\n",
      " [ 0.   +0.j  0.   +0.j  0.   +0.j]\n",
      " [ 0.   +0.j  0.   +0.j  0.   +0.j]\n",
      " [-0.001+0.j  0.001+0.j -0.063+0.j]\n",
      " [ 0.   +0.j  0.   +0.j  0.   +0.j]\n",
      " [ 0.   +0.j  0.   +0.j  0.   +0.j]\n",
      " [ 0.   +0.j  0.   +0.j  0.   +0.j]\n",
      " [ 0.   +0.j -0.089+0.j -0.002+0.j]\n",
      " [ 0.   +0.j  0.   +0.j  0.   +0.j]\n",
      " [ 0.   +0.j  0.   +0.j  0.   +0.j]\n",
      " [ 0.   +0.j  0.   +0.j  0.   +0.j]\n",
      " [ 0.   +0.j  0.   +0.j  0.   +0.j]\n",
      " [ 0.   +0.j  0.   +0.j  0.   +0.j]\n",
      " [ 0.   +0.j  0.   +0.j  0.   +0.j]\n",
      " [ 0.   +0.j  0.   +0.j  0.   +0.j]\n",
      " [ 0.   +0.j  0.   +0.j  0.   +0.j]\n",
      " [ 0.   +0.j  0.   +0.j  0.   +0.j]\n",
      " [ 0.   +0.j  0.   +0.j  0.   +0.j]\n",
      " [ 0.   +0.j  0.   +0.j  0.   +0.j]\n",
      " [ 0.   +0.j  0.   +0.j  0.   +0.j]\n",
      " [ 0.   +0.j  0.   +0.j  0.   +0.j]\n",
      " [ 0.   +0.j  0.   +0.j  0.   +0.j]\n",
      " [ 0.   +0.j  0.   +0.j  0.   +0.j]\n",
      " [ 0.   +0.j  0.   +0.j  0.   +0.j]\n",
      " [ 0.   +0.j  0.   +0.j  0.   +0.j]\n",
      " [ 0.   +0.j  0.   +0.j  0.   +0.j]\n",
      " [ 0.   +0.j  0.   +0.j  0.   +0.j]\n",
      " [ 0.   +0.j  0.   +0.j  0.   +0.j]\n",
      " [ 0.   +0.j  0.   +0.j  0.   +0.j]\n",
      " [ 0.   +0.j  0.   +0.j  0.   +0.j]\n",
      " [ 0.   +0.j  0.   +0.j  0.   +0.j]\n",
      " [ 0.   +0.j  0.   +0.j  0.   +0.j]\n",
      " [ 0.   +0.j  0.   +0.j  0.   +0.j]\n",
      " [ 0.   +0.j  0.   +0.j  0.   +0.j]\n",
      " [ 0.   +0.j  0.   +0.j  0.   +0.j]\n",
      " [ 0.   +0.j  0.   +0.j  0.   +0.j]\n",
      " [ 0.   +0.j  0.   +0.j  0.   +0.j]\n",
      " [ 0.   +0.j  0.   +0.j  0.   +0.j]\n",
      " [ 0.   +0.j  0.   +0.j  0.   +0.j]\n",
      " [ 0.   +0.j  0.   +0.j  0.   +0.j]\n",
      " [ 0.   +0.j  0.   +0.j  0.   +0.j]\n",
      " [ 0.   +0.j  0.   +0.j  0.   +0.j]\n",
      " [ 0.   +0.j  0.   +0.j  0.   +0.j]\n",
      " [ 0.   +0.j  0.   +0.j  0.   +0.j]\n",
      " [ 0.   +0.j  0.   +0.j  0.   +0.j]\n",
      " [ 0.   +0.j  0.   +0.j  0.   +0.j]\n",
      " [ 0.   +0.j  0.   +0.j  0.   +0.j]\n",
      " [ 0.   +0.j  0.   +0.j  0.   +0.j]\n",
      " [ 0.   +0.j  0.   +0.j  0.   +0.j]\n",
      " [ 0.   +0.j  0.   +0.j  0.   +0.j]\n",
      " [-0.103+0.j -0.   +0.j  0.001+0.j]\n",
      " [ 0.   +0.j  0.   +0.j  0.   +0.j]\n",
      " [ 0.   +0.j  0.   +0.j  0.   +0.j]\n",
      " [ 0.09 +0.j  0.   +0.j -0.001+0.j]\n",
      " [-0.   +0.j  0.   +0.j -0.009+0.j]\n",
      " [ 0.   +0.j  0.   +0.j  0.   +0.j]\n",
      " [ 0.   +0.j  0.   +0.j  0.   +0.j]\n",
      " [ 0.   +0.j  0.   +0.j  0.   +0.j]\n",
      " [ 0.   +0.j  0.   +0.j  0.   +0.j]\n",
      " [ 0.   +0.j  0.   +0.j  0.   +0.j]\n",
      " [ 0.   +0.j  0.   +0.j  0.   +0.j]\n",
      " [ 0.   +0.j  0.   +0.j  0.   +0.j]\n",
      " [ 0.   +0.j  0.   +0.j  0.   +0.j]\n",
      " [ 0.   +0.j  0.   +0.j  0.   +0.j]\n",
      " [ 0.   +0.j  0.   +0.j  0.   +0.j]\n",
      " [ 0.09 +0.j  0.   +0.j -0.001+0.j]\n",
      " [-0.   +0.j  0.   +0.j -0.009+0.j]\n",
      " [ 0.   +0.j  0.   +0.j  0.   +0.j]\n",
      " [ 0.   +0.j  0.   +0.j  0.   +0.j]\n",
      " [ 0.001+0.j -0.003+0.j  0.128+0.j]\n",
      " [-0.   +0.j  0.078+0.j  0.002+0.j]\n",
      " [ 0.   +0.j  0.   +0.j  0.   +0.j]\n",
      " [ 0.   +0.j  0.   +0.j  0.   +0.j]\n",
      " [ 0.   +0.j  0.   +0.j  0.   +0.j]\n",
      " [ 0.   +0.j  0.   +0.j  0.   +0.j]\n",
      " [ 0.   +0.j  0.   +0.j  0.   +0.j]\n",
      " [ 0.   +0.j  0.   +0.j  0.   +0.j]\n",
      " [ 0.   +0.j  0.   +0.j  0.   +0.j]\n",
      " [ 0.   +0.j  0.   +0.j  0.   +0.j]\n",
      " [ 0.   +0.j  0.   +0.j  0.   +0.j]\n",
      " [ 0.   +0.j  0.   +0.j  0.   +0.j]\n",
      " [ 0.   +0.j  0.   +0.j  0.   +0.j]\n",
      " [ 0.   +0.j  0.   +0.j  0.   +0.j]\n",
      " [ 0.   +0.j  0.   +0.j  0.   +0.j]\n",
      " [ 0.   +0.j  0.   +0.j  0.   +0.j]\n",
      " [ 0.   +0.j  0.   +0.j  0.   +0.j]\n",
      " [ 0.   +0.j  0.   +0.j  0.   +0.j]\n",
      " [ 0.   +0.j  0.   +0.j  0.   +0.j]\n",
      " [ 0.   +0.j  0.   +0.j  0.   +0.j]\n",
      " [ 0.   +0.j  0.   +0.j  0.   +0.j]\n",
      " [ 0.   +0.j  0.   +0.j  0.   +0.j]\n",
      " [ 0.   +0.j  0.   +0.j  0.   +0.j]\n",
      " [ 0.   +0.j  0.   +0.j  0.   +0.j]\n",
      " [ 0.   +0.j  0.   +0.j  0.   +0.j]\n",
      " [ 0.   +0.j  0.   +0.j  0.   +0.j]\n",
      " [ 0.   +0.j  0.   +0.j  0.   +0.j]\n",
      " [ 0.   +0.j  0.   +0.j  0.   +0.j]\n",
      " [ 0.   +0.j  0.   +0.j  0.   +0.j]\n",
      " [ 0.   +0.j  0.   +0.j  0.   +0.j]\n",
      " [ 0.   +0.j  0.   +0.j  0.   +0.j]\n",
      " [ 0.   +0.j  0.   +0.j  0.   +0.j]\n",
      " [ 0.   +0.j  0.   +0.j  0.   +0.j]\n",
      " [ 0.   +0.j  0.   +0.j  0.   +0.j]\n",
      " [ 0.   +0.j  0.   +0.j  0.   +0.j]\n",
      " [ 0.   +0.j  0.   +0.j  0.   +0.j]\n",
      " [ 0.   +0.j  0.   +0.j  0.   +0.j]\n",
      " [ 0.   +0.j  0.   +0.j  0.   +0.j]\n",
      " [ 0.   +0.j  0.   +0.j  0.   +0.j]\n",
      " [ 0.   +0.j  0.   +0.j  0.   +0.j]\n",
      " [ 0.   +0.j  0.   +0.j  0.   +0.j]\n",
      " [ 0.   +0.j  0.   +0.j  0.   +0.j]\n",
      " [ 0.   +0.j  0.   +0.j  0.   +0.j]\n",
      " [ 0.   +0.j  0.   +0.j  0.   +0.j]\n",
      " [-0.078+0.j -0.   +0.j  0.001+0.j]\n",
      " [-0.001+0.j  0.003+0.j -0.128+0.j]\n",
      " [ 0.   +0.j  0.   +0.j  0.   +0.j]\n",
      " [ 0.   +0.j  0.   +0.j  0.   +0.j]\n",
      " [ 0.   +0.j -0.   +0.j  0.009+0.j]\n",
      " [ 0.   +0.j -0.09 +0.j -0.002+0.j]\n",
      " [ 0.   +0.j  0.   +0.j  0.   +0.j]\n",
      " [ 0.   +0.j  0.   +0.j  0.   +0.j]\n",
      " [ 0.   +0.j  0.   +0.j  0.   +0.j]\n",
      " [ 0.   +0.j  0.   +0.j  0.   +0.j]\n",
      " [ 0.   +0.j  0.   +0.j  0.   +0.j]\n",
      " [ 0.   +0.j  0.   +0.j  0.   +0.j]\n",
      " [ 0.   +0.j  0.   +0.j  0.   +0.j]\n",
      " [ 0.   +0.j  0.   +0.j  0.   +0.j]\n",
      " [ 0.   +0.j  0.   +0.j  0.   +0.j]\n",
      " [ 0.   +0.j  0.   +0.j  0.   +0.j]\n",
      " [ 0.   +0.j -0.   +0.j  0.009+0.j]\n",
      " [ 0.   +0.j -0.09 +0.j -0.002+0.j]\n",
      " [ 0.   +0.j  0.   +0.j  0.   +0.j]\n",
      " [ 0.   +0.j  0.   +0.j  0.   +0.j]\n",
      " [-0.   +0.j  0.103+0.j  0.002+0.j]\n",
      " [ 0.   +0.j  0.   +0.j  0.   +0.j]\n",
      " [ 0.   +0.j  0.   +0.j  0.   +0.j]\n",
      " [ 0.   +0.j  0.   +0.j  0.   +0.j]\n",
      " [ 0.   +0.j  0.   +0.j  0.   +0.j]\n",
      " [ 0.   +0.j  0.   +0.j  0.   +0.j]\n",
      " [ 0.   +0.j  0.   +0.j  0.   +0.j]\n",
      " [ 0.   +0.j  0.   +0.j  0.   +0.j]\n",
      " [ 0.   +0.j  0.   +0.j  0.   +0.j]\n",
      " [ 0.   +0.j  0.   +0.j  0.   +0.j]\n",
      " [ 0.   +0.j  0.   +0.j  0.   +0.j]\n",
      " [ 0.   +0.j  0.   +0.j  0.   +0.j]\n",
      " [ 0.   +0.j  0.   +0.j  0.   +0.j]\n",
      " [ 0.   +0.j  0.   +0.j  0.   +0.j]\n",
      " [ 0.   +0.j  0.   +0.j  0.   +0.j]\n",
      " [ 0.   +0.j  0.   +0.j  0.   +0.j]\n",
      " [ 0.   +0.j  0.   +0.j  0.   +0.j]\n",
      " [ 0.   +0.j  0.   +0.j  0.   +0.j]\n",
      " [ 0.   +0.j  0.   +0.j  0.   +0.j]\n",
      " [ 0.   +0.j  0.   +0.j  0.   +0.j]\n",
      " [ 0.   +0.j  0.   +0.j  0.   +0.j]\n",
      " [ 0.   +0.j  0.   +0.j  0.   +0.j]\n",
      " [ 0.   +0.j  0.   +0.j  0.   +0.j]\n",
      " [ 0.   +0.j  0.   +0.j  0.   +0.j]\n",
      " [ 0.   +0.j  0.   +0.j  0.   +0.j]\n",
      " [ 0.   +0.j  0.   +0.j  0.   +0.j]\n",
      " [ 0.   +0.j  0.   +0.j  0.   +0.j]\n",
      " [ 0.   +0.j  0.   +0.j  0.   +0.j]\n",
      " [ 0.   +0.j  0.   +0.j  0.   +0.j]\n",
      " [ 0.   +0.j  0.   +0.j  0.   +0.j]\n",
      " [ 0.   +0.j  0.   +0.j  0.   +0.j]\n",
      " [ 0.   +0.j  0.   +0.j  0.   +0.j]\n",
      " [ 0.   +0.j  0.   +0.j  0.   +0.j]\n",
      " [ 0.   +0.j  0.   +0.j  0.   +0.j]\n",
      " [ 0.   +0.j  0.   +0.j  0.   +0.j]\n",
      " [ 0.   +0.j  0.   +0.j  0.   +0.j]\n",
      " [ 0.   +0.j  0.   +0.j  0.   +0.j]\n",
      " [ 0.   +0.j  0.   +0.j  0.   +0.j]\n",
      " [ 0.   +0.j  0.   +0.j  0.   +0.j]\n",
      " [ 0.   +0.j  0.   +0.j  0.   +0.j]\n",
      " [ 0.   +0.j  0.   +0.j  0.   +0.j]\n",
      " [ 0.   +0.j  0.   +0.j  0.   +0.j]\n",
      " [ 0.   +0.j  0.   +0.j  0.   +0.j]\n",
      " [ 0.979+0.j  0.003+0.j -0.011+0.j]\n",
      " [ 0.   +0.j  0.   +0.j  0.   +0.j]\n",
      " [ 0.   +0.j  0.   +0.j  0.   +0.j]\n",
      " [ 0.   +0.j  0.   +0.j  0.   +0.j]\n",
      " [ 0.008+0.j -0.015+0.j  0.692+0.j]\n",
      " [ 0.   +0.j  0.   +0.j  0.   +0.j]\n",
      " [ 0.   +0.j  0.   +0.j  0.   +0.j]\n",
      " [ 0.   +0.j  0.   +0.j  0.   +0.j]\n",
      " [ 0.   +0.j  0.   +0.j  0.   +0.j]\n",
      " [ 0.   +0.j  0.   +0.j  0.   +0.j]\n",
      " [ 0.   +0.j  0.   +0.j  0.   +0.j]\n",
      " [ 0.   +0.j  0.   +0.j  0.   +0.j]\n",
      " [ 0.   +0.j  0.   +0.j  0.   +0.j]\n",
      " [ 0.   +0.j  0.   +0.j  0.   +0.j]\n",
      " [ 0.   +0.j  0.   +0.j  0.   +0.j]\n",
      " [ 0.   +0.j  0.   +0.j  0.   +0.j]\n",
      " [ 0.008+0.j -0.015+0.j  0.692+0.j]\n",
      " [ 0.   +0.j  0.   +0.j  0.   +0.j]\n",
      " [ 0.   +0.j  0.   +0.j  0.   +0.j]\n",
      " [ 0.   +0.j  0.   +0.j  0.   +0.j]\n",
      " [-0.003+0.j  0.979+0.j  0.021+0.j]\n",
      " [ 0.   +0.j  0.   +0.j  0.   +0.j]\n",
      " [ 0.   +0.j  0.   +0.j  0.   +0.j]\n",
      " [ 0.   +0.j  0.   +0.j  0.   +0.j]\n",
      " [ 0.   +0.j  0.   +0.j  0.   +0.j]\n",
      " [ 0.   +0.j  0.   +0.j  0.   +0.j]\n",
      " [ 0.   +0.j  0.   +0.j  0.   +0.j]\n",
      " [ 0.   +0.j  0.   +0.j  0.   +0.j]\n",
      " [ 0.   +0.j  0.   +0.j  0.   +0.j]\n",
      " [ 0.   +0.j  0.   +0.j  0.   +0.j]\n",
      " [ 0.   +0.j  0.   +0.j  0.   +0.j]\n",
      " [ 0.   +0.j  0.   +0.j  0.   +0.j]\n",
      " [ 0.   +0.j  0.   +0.j  0.   +0.j]\n",
      " [ 0.   +0.j  0.   +0.j  0.   +0.j]\n",
      " [ 0.   +0.j  0.   +0.j  0.   +0.j]\n",
      " [ 0.   +0.j  0.   +0.j  0.   +0.j]\n",
      " [ 0.   +0.j  0.   +0.j  0.   +0.j]\n",
      " [ 0.   +0.j  0.   +0.j  0.   +0.j]\n",
      " [ 0.   +0.j  0.   +0.j  0.   +0.j]\n",
      " [ 0.   +0.j  0.   +0.j  0.   +0.j]\n",
      " [ 0.   +0.j  0.   +0.j  0.   +0.j]\n",
      " [ 0.   +0.j  0.   +0.j  0.   +0.j]\n",
      " [ 0.   +0.j  0.   +0.j  0.   +0.j]\n",
      " [ 0.   +0.j  0.   +0.j  0.   +0.j]]\n"
     ]
    }
   ],
   "source": [
    "print('multiplicity: ', data_dict['multiplicity'])\n",
    "print('ground states: \\n', data_dict['ground_states'].round(3))"
   ]
  },
  {
   "cell_type": "markdown",
   "metadata": {},
   "source": [
    "## output"
   ]
  },
  {
   "cell_type": "markdown",
   "metadata": {},
   "source": [
    "`exact_energy` encodes the exact ground-state energy of the molecule, i.e. the target output of the QML model for this first stage of the project."
   ]
  },
  {
   "cell_type": "code",
   "execution_count": 13,
   "metadata": {
    "ExecuteTime": {
     "end_time": "2020-07-08T14:29:10.988862Z",
     "start_time": "2020-07-08T14:29:10.983715Z"
    }
   },
   "outputs": [
    {
     "data": {
      "text/plain": [
       "-1.8917479285527508"
      ]
     },
     "execution_count": 13,
     "metadata": {},
     "output_type": "execute_result"
    }
   ],
   "source": [
    "data_dict['exact_energy']"
   ]
  },
  {
   "cell_type": "markdown",
   "metadata": {},
   "source": [
    "## benchmarking "
   ]
  },
  {
   "cell_type": "markdown",
   "metadata": {
    "ExecuteTime": {
     "end_time": "2020-06-16T11:34:30.684683Z",
     "start_time": "2020-06-16T11:34:30.680463Z"
    }
   },
   "source": [
    "`hf_energy` stores the Hartree-Fock (HF) energy, i.e. the minimum energy of any single slater-determinant state, under mean field interactions.\n",
    "This is the quantity that is minimized by the HF variational self-consistent mean field method.\n",
    "Hartree-Fock is the first, \"roughest\" estimate of the ground state energy provided by quantum chemistry calculations.\n",
    "The zeroth requirement of a post-HF method for esrimating the ground state energy, is for its result to be more precise than the HF energy."
   ]
  },
  {
   "cell_type": "code",
   "execution_count": 14,
   "metadata": {
    "ExecuteTime": {
     "end_time": "2020-07-08T14:29:11.482679Z",
     "start_time": "2020-07-08T14:29:11.479215Z"
    }
   },
   "outputs": [
    {
     "data": {
      "text/plain": [
       "-1.8519449915291792"
      ]
     },
     "execution_count": 14,
     "metadata": {},
     "output_type": "execute_result"
    }
   ],
   "source": [
    "data_dict['hf_energy']"
   ]
  },
  {
   "cell_type": "markdown",
   "metadata": {},
   "source": [
    "## Atomic and molecular orbitals (eventual additional input)"
   ]
  },
  {
   "cell_type": "markdown",
   "metadata": {
    "ExecuteTime": {
     "end_time": "2020-06-06T14:14:24.029058Z",
     "start_time": "2020-06-06T14:14:24.025821Z"
    }
   },
   "source": [
    "Atomic orbitals are a physically-motivated, non-complete and non-orthogonal parametrization of scalar funcions of space (fields $\\phi(\\vec{x})$).\n",
    "\n",
    "To each atom we can assign a set of spherical harmonics centered in the atom's position and with radii dependent on the atom's charge. \n",
    "Each (infinite) set of spherical harmonics forms a orthonormal base for fields.\n",
    "If we model an atom as a point charge, these spherical harmonics will be the eigen-wavefunctions for a single electron in the atom's field.\n",
    "Truncating the number of spherical harmonics allows us to construct a *finite* parametrization of space that can approximate the low-energy electron field, hopefully also in the interacting and poly-atomic case.\n",
    "The basis functions of these parametrization are called atomic orbitals. \n",
    "\n",
    "The *minimal basis* approximation, in the case of Hydrogen atoms, prescribes that we take a single spherically symmetric *atomic orbital* for each Hydrogen - to which we have to add spin information.\n",
    "This results in two *spin-orbitals* per each Hydrogen atom: a total of 4 atomic orbitals (i.e. 8 spin-orbitals) for an H4 molecule.\n",
    "\n",
    "To construct an orthonormal (of course still incomplete) parametrization of fields, we take linear combinations of these 4 orbitals. The *canonical orbitals* a a special orthonormal combination of atomic orbitals, obtained through the Hartree-Fock method.\n",
    "The ground-state Slater determinant constructed on the canonical orbitals minimizes the total energy, accounting for electron-electron interactions with a mean-field approach.\n",
    "\n",
    "The `canonical_orbitals` matrix encodes the linear combination of atomic orbitals taken to construct the canonical orbitals:"
   ]
  },
  {
   "cell_type": "code",
   "execution_count": 15,
   "metadata": {
    "ExecuteTime": {
     "end_time": "2020-07-08T14:29:12.012791Z",
     "start_time": "2020-07-08T14:29:12.008179Z"
    }
   },
   "outputs": [
    {
     "data": {
      "text/plain": [
       "array([[ 0.474, -0.   ,  0.   ,  1.287],\n",
       "       [ 0.282,  0.105,  0.963, -0.563],\n",
       "       [ 0.282, -0.887, -0.391, -0.563],\n",
       "       [ 0.282,  0.782, -0.572, -0.563]])"
      ]
     },
     "execution_count": 15,
     "metadata": {},
     "output_type": "execute_result"
    }
   ],
   "source": [
    "data_dict['canonical_orbitals'].round(3)"
   ]
  },
  {
   "cell_type": "markdown",
   "metadata": {},
   "source": [
    "The rows relate to each atomic orbital, ordered as the respective atoms appear in `geometry`.\n",
    "The columns represent molecular orbitals, ordered by increasing single-particle energy.\n",
    "These are the energies saved in `orbital_energies`."
   ]
  },
  {
   "cell_type": "code",
   "execution_count": 16,
   "metadata": {
    "ExecuteTime": {
     "end_time": "2020-07-08T14:29:12.379908Z",
     "start_time": "2020-07-08T14:29:12.375012Z"
    }
   },
   "outputs": [
    {
     "data": {
      "text/plain": [
       "array([-0.682,  0.043,  0.043,  0.569])"
      ]
     },
     "execution_count": 16,
     "metadata": {},
     "output_type": "execute_result"
    }
   ],
   "source": [
    "data_dict['orbital_energies'].round(3)"
   ]
  },
  {
   "cell_type": "markdown",
   "metadata": {},
   "source": [
    "Typically on a quantum computer, under Jordan-Wigner encoding, each pair of qubits will represent a canonical orbital (2 qubits because for each orbital there are two spins, i.e. two spin-orbitals).\n",
    "The `ground_states` saved in these data are encoded in this way.\n",
    "\n",
    "The `canonical_to_oao` unitary matrix encodes which linear combination of atomic orbitals needs to be taken to construct a orthonormal version of the atomic orbitals (Orthogonal Atomic Orbitals, OAO).\n",
    "Columns encode the OAOs shape in the canonical orbital basis.\n",
    "\n",
    "This might be useful in later stages of the project: using a Givens rotations circuit we can change the state encoding such that each qubit corresponds to one spin-OAO.\n",
    "This would allow to directly connect the quantum state to the geometry, as each orbital would be \"localized\" at the position of the respective atom."
   ]
  },
  {
   "cell_type": "code",
   "execution_count": 17,
   "metadata": {
    "ExecuteTime": {
     "end_time": "2020-07-08T14:29:12.727804Z",
     "start_time": "2020-07-08T14:29:12.720253Z"
    }
   },
   "outputs": [
    {
     "data": {
      "text/plain": [
       "array([[ 0.632,  0.447,  0.447,  0.447],\n",
       "       [-0.   ,  0.088, -0.747,  0.659],\n",
       "       [ 0.   ,  0.812, -0.329, -0.482],\n",
       "       [ 0.775, -0.365, -0.365, -0.365]])"
      ]
     },
     "execution_count": 17,
     "metadata": {},
     "output_type": "execute_result"
    }
   ],
   "source": [
    "data_dict['canonical_to_oao'].round(3)"
   ]
  },
  {
   "cell_type": "markdown",
   "metadata": {},
   "source": [
    "### details on OAO\n",
    "Some details about the symmetric orthogonalization procedure (Lödwin's method) used to obtain the orthogonal atomic orbitals.\n",
    "\n",
    "The `canonical_orbitals` the matrix $M$ represents, as column vectors, the *canonical orbitals* in the (nonorthogonal) basis of the *atomic orbitals*.\n",
    "The inverse, $P$, transforms a column vector from the atomic orbital basis to the canonical orbitals basis.\n",
    "\n",
    "As canonical orbitals are orthogonal, in their basis inner product is simply vector dot product: we use the transformation $P$ to calculate the inner product of the atomic orbital basis functions. With this technique we compute the atomic orbital overlap matrix $S$.\n",
    "\n",
    "Lödwin's method prescribes to use the inverse of the Hermitian square root of the overlap, $C=\\sqrt{S^{-1}}$ to orthonormalize the atomic orbital functions, obtaining the ***orthogonal atomic orbitals (OAO)***.\n",
    "Clearly, the resulting basis is orthonormal as\n",
    "\n",
    "$$\n",
    "\\langle \\mathrm{OAO}_i \\vert \\mathrm{OAO}_j \\rangle \n",
    "= C_{il} \\langle \\mathrm{AO}_l \\vert \\mathrm{AO}_k \\rangle C_{kj}\n",
    "= ( C \\cdot S \\cdot C )_{ij} = (C \\cdot C^{-2} \\cdot C)_{ij} = \\delta_{ij}\n",
    "$$\n",
    "\n",
    "Finally, combining $C$ and $M$, we get the unitary matrix representing the canonical orbitals in the orthogonal atomic orbital basis, and its inverse.\n",
    "This last one, is the one saved as `canonical_to_oao` in the data dictionary\n"
   ]
  },
  {
   "cell_type": "code",
   "execution_count": 18,
   "metadata": {
    "ExecuteTime": {
     "end_time": "2020-07-08T14:29:13.087384Z",
     "start_time": "2020-07-08T14:29:13.073218Z"
    },
    "scrolled": false
   },
   "outputs": [
    {
     "name": "stdout",
     "output_type": "stream",
     "text": [
      "M (CO column vectors in the AO basis)\n",
      " [[ 0.474 -0.     0.     1.287]\n",
      " [ 0.282  0.105  0.963 -0.563]\n",
      " [ 0.282 -0.887 -0.391 -0.563]\n",
      " [ 0.282  0.782 -0.572 -0.563]]\n",
      "\n",
      "P = M^-1 (AO column vectors in the CO basis)\n",
      " [[ 0.894  0.681  0.681  0.681]\n",
      " [ 0.     0.074 -0.63   0.555]\n",
      " [ 0.     0.684 -0.278 -0.406]\n",
      " [ 0.448 -0.251 -0.251 -0.251]]\n",
      "\n",
      "S (overlap matrix of AOs)\n",
      " [[1.      0.49648 0.49648 0.49648]\n",
      " [0.49648 1.      0.2899  0.2899 ]\n",
      " [0.49648 0.2899  1.      0.2899 ]\n",
      " [0.49648 0.2899  0.2899  1.     ]]\n",
      "\n",
      "C (OAO column vectors in AO basis)\n",
      " [[ 1.296 -0.258 -0.258 -0.258]\n",
      " [-0.258  1.123 -0.064 -0.064]\n",
      " [-0.258 -0.064  1.123 -0.064]\n",
      " [-0.258 -0.064 -0.064  1.123]]\n",
      "\n",
      "U (CO column vectors in OAO basis)\n",
      " [[ 0.632 -0.     0.     0.775]\n",
      " [ 0.447  0.088  0.812 -0.365]\n",
      " [ 0.447 -0.747 -0.329 -0.365]\n",
      " [ 0.447  0.659 -0.482 -0.365]]\n",
      "\n",
      "U^dag == `canonical_to_oao` (OAO column vectors in CO basis)\n",
      " [[ 0.632  0.447  0.447  0.447]\n",
      " [-0.     0.088 -0.747  0.659]\n",
      " [ 0.     0.812 -0.329 -0.482]\n",
      " [ 0.775 -0.365 -0.365 -0.365]]\n"
     ]
    }
   ],
   "source": [
    "from scipy.linalg import sqrtm, inv\n",
    "\n",
    "M = data_dict['canonical_orbitals']\n",
    "print('M (CO column vectors in the AO basis)\\n', M.round(3))\n",
    "print()\n",
    "P = inv(M)\n",
    "print('P = M^-1 (AO column vectors in the CO basis)\\n', P.round(3)) # CO to AO\n",
    "print()\n",
    "S = P.T @ P\n",
    "print('S (overlap matrix of AOs)\\n', S.round(5))\n",
    "print()\n",
    "C = inv(sqrtm(S))\n",
    "print('C (OAO column vectors in AO basis)\\n', C.round(3))\n",
    "print()\n",
    "co_to_oao = (sqrtm(P.T @ P) @ M)\n",
    "print('U (CO column vectors in OAO basis)\\n', \n",
    "      co_to_oao.round(3)) # CO from OAO\n",
    "print()\n",
    "oao_to_co = (P @ sqrtm(M @ M.T)) # == P @ C\n",
    "print('U^dag == `canonical_to_oao` (OAO column vectors in CO basis)\\n', \n",
    "      oao_to_co.round(3)) # OAO from CO"
   ]
  },
  {
   "cell_type": "markdown",
   "metadata": {},
   "source": [
    "# Utilities\n",
    "\n",
    "## List  files"
   ]
  },
  {
   "cell_type": "code",
   "execution_count": 21,
   "metadata": {
    "ExecuteTime": {
     "end_time": "2020-07-08T14:29:45.484227Z",
     "start_time": "2020-07-08T14:29:45.476369Z"
    },
    "scrolled": true
   },
   "outputs": [
    {
     "name": "stdout",
     "output_type": "stream",
     "text": [
      "MOLECULES_DIR content: 501 files\n",
      "H,0,0,0;H,0.401,0,0;H,-0.1196,0.9943,0;H,0.0526,0.2628,-0.3113.hdf5\n",
      "H,0,0,0;H,0.4023,0,0;H,0.3393,1.0607,0;H,-0.0812,-0.0573,-0.426.hdf5\n",
      "H,0,0,0;H,0.4028,0,0;H,-0.4404,0.4811,0;H,0.0828,-0.7849,-0.2394.hdf5\n",
      "H,0,0,0;H,0.4059,0,0;H,0.3759,1.4515,0;H,0.4392,1.1007,0.7042.hdf5\n",
      "H,0,0,0;H,0.4069,0,0;H,-0.3451,-0.2725,0;H,-1.0738,-0.6908,-0.3546.hdf5\n",
      "...\n",
      "\n",
      "DATA_DIR content: 501 files\n",
      "H,0,0,0;H,0.401,0,0;H,-0.1196,0.9943,0;H,0.0526,0.2628,-0.3113.json\n",
      "H,0,0,0;H,0.4023,0,0;H,0.3393,1.0607,0;H,-0.0812,-0.0573,-0.426.json\n",
      "H,0,0,0;H,0.4028,0,0;H,-0.4404,0.4811,0;H,0.0828,-0.7849,-0.2394.json\n",
      "H,0,0,0;H,0.4059,0,0;H,0.3759,1.4515,0;H,0.4392,1.1007,0.7042.json\n",
      "H,0,0,0;H,0.4069,0,0;H,-0.3451,-0.2725,0;H,-1.0738,-0.6908,-0.3546.json\n",
      "...\n"
     ]
    }
   ],
   "source": [
    "import os\n",
    "from convoQC.utils import MOLECULES_DIR, JSON_DIR\n",
    "    \n",
    "molecule_files = sorted(os.listdir(MOLECULES_DIR))\n",
    "data_files = sorted(os.listdir(JSON_DIR))\n",
    "    \n",
    "print(f'MOLECULES_DIR content: {len(molecule_files)} files')\n",
    "print(*molecule_files[:5], '...' if len(molecule_files)>5 else '', sep='\\n')\n",
    "print(f'\\nDATA_DIR content: {len(data_files)} files')\n",
    "print(*data_files[:5],  '...' if len(data_files)>5 else '', sep='\\n')"
   ]
  },
  {
   "cell_type": "markdown",
   "metadata": {},
   "source": [
    "## Prompt to delete molecule and data files (CAUTION)"
   ]
  },
  {
   "cell_type": "raw",
   "metadata": {
    "ExecuteTime": {
     "end_time": "2020-07-08T13:15:37.057615Z",
     "start_time": "2020-07-08T13:15:35.266786Z"
    }
   },
   "source": [
    "from convoQC.utils import MOLECULES_DIR, JSON_DIR\n",
    "def clean_data():\n",
    "    print('remove all data files from MOLECULE_DIR? [y/n]')\n",
    "    inp = input()\n",
    "    if inp == 'y':\n",
    "        for f in os.listdir(MOLECULES_DIR):\n",
    "            os.remove(MOLECULES_DIR + f)\n",
    "    print('remove all data files from JSON_DIR? [y/n]')\n",
    "    inp = input()\n",
    "    if inp == 'y':\n",
    "        for f in os.listdir(JSON_DIR):\n",
    "            os.remove(JSON_DIR + f)\n",
    "clean_data() "
   ]
  }
 ],
 "metadata": {
  "hide_input": false,
  "kernelspec": {
   "display_name": "Python 3",
   "language": "python",
   "name": "python3"
  },
  "language_info": {
   "codemirror_mode": {
    "name": "ipython",
    "version": 3
   },
   "file_extension": ".py",
   "mimetype": "text/x-python",
   "name": "python",
   "nbconvert_exporter": "python",
   "pygments_lexer": "ipython3",
   "version": "3.7.4"
  },
  "notify_time": "10",
  "toc": {
   "base_numbering": 1,
   "nav_menu": {},
   "number_sections": true,
   "sideBar": true,
   "skip_h1_title": false,
   "title_cell": "Table of Contents",
   "title_sidebar": "Contents",
   "toc_cell": false,
   "toc_position": {
    "height": "calc(100% - 180px)",
    "left": "10px",
    "top": "150px",
    "width": "165px"
   },
   "toc_section_display": true,
   "toc_window_display": true
  },
  "varInspector": {
   "cols": {
    "lenName": 16,
    "lenType": 16,
    "lenVar": 40
   },
   "kernels_config": {
    "python": {
     "delete_cmd_postfix": "",
     "delete_cmd_prefix": "del ",
     "library": "var_list.py",
     "varRefreshCmd": "print(var_dic_list())"
    },
    "r": {
     "delete_cmd_postfix": ") ",
     "delete_cmd_prefix": "rm(",
     "library": "var_list.r",
     "varRefreshCmd": "cat(var_dic_list()) "
    }
   },
   "types_to_exclude": [
    "module",
    "function",
    "builtin_function_or_method",
    "instance",
    "_Feature"
   ],
   "window_display": false
  }
 },
 "nbformat": 4,
 "nbformat_minor": 4
}
